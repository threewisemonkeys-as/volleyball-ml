{
 "metadata": {
  "language_info": {
   "codemirror_mode": {
    "name": "ipython",
    "version": 3
   },
   "file_extension": ".py",
   "mimetype": "text/x-python",
   "name": "python",
   "nbconvert_exporter": "python",
   "pygments_lexer": "ipython3",
   "version": "3.8.5-final"
  },
  "orig_nbformat": 2,
  "kernelspec": {
   "name": "python3",
   "display_name": "Python 3"
  }
 },
 "nbformat": 4,
 "nbformat_minor": 2,
 "cells": [
  {
   "cell_type": "code",
   "execution_count": 1,
   "metadata": {},
   "outputs": [],
   "source": [
    "import pandas as pd\n",
    "import seaborn as sns\n",
    "import sklearn\n",
    "import numpy as np\n",
    "from xgboost import XGBClassifier\n",
    "from sklearn.model_selection import train_test_split\n",
    "from sklearn.metrics import accuracy_score, roc_auc_score\n",
    "from sklearn.model_selection import cross_val_score\n",
    "from sklearn.neural_network import MLPClassifier\n",
    "from sklearn.ensemble import RandomForestClassifier\n",
    "from sklearn.linear_model import LogisticRegression\n",
    "from sklearn.svm import SVC\n",
    "from sklearn.tree import DecisionTreeClassifier"
   ]
  },
  {
   "source": [
    "# Evaluating models with default parameters and all featuress"
   ],
   "cell_type": "markdown",
   "metadata": {}
  },
  {
   "cell_type": "code",
   "execution_count": 2,
   "metadata": {},
   "outputs": [
    {
     "output_type": "stream",
     "name": "stdout",
     "text": [
      "\n",
      "matches_gathered -\n",
      "X.shape: (9536, 26), y.shape: (9536,)\n",
      "Result on matches_gathered -\n",
      "                    Model  Accuracy Mean  Accuracy Dev\n",
      "0           XGBClassifier       0.917051      0.005935\n",
      "1           MLPClassifier       0.929844      0.007670\n",
      "2  RandomForestClassifier       0.911912      0.008000\n",
      "3      LogisticRegression       0.932990      0.007158\n",
      "4                     SVC       0.924077      0.007954\n",
      "5  DecisionTreeClassifier       0.872168      0.010175\n",
      "------------------------------\n",
      "\n",
      "sma -\n",
      "X.shape: (9536, 26), y.shape: (9536,)\n",
      "Result on sma -\n",
      "                    Model  Accuracy Mean  Accuracy Dev\n",
      "0           XGBClassifier       0.778524      0.006745\n",
      "1           MLPClassifier       0.781248      0.026446\n",
      "2  RandomForestClassifier       0.784605      0.007696\n",
      "3      LogisticRegression       0.802537      0.008363\n",
      "4                     SVC       0.787121      0.013023\n",
      "5  DecisionTreeClassifier       0.694944      0.007232\n",
      "------------------------------\n",
      "\n",
      "cma -\n",
      "X.shape: (9536, 26), y.shape: (9536,)\n",
      "Result on cma -\n",
      "                    Model  Accuracy Mean  Accuracy Dev\n",
      "0           XGBClassifier       0.763528      0.005033\n",
      "1           MLPClassifier       0.759125      0.015399\n",
      "2  RandomForestClassifier       0.776529      0.011585\n",
      "3      LogisticRegression       0.784920      0.005243\n",
      "4                     SVC       0.767932      0.007404\n",
      "5  DecisionTreeClassifier       0.693896      0.005912\n",
      "------------------------------\n",
      "\n",
      "ewm -\n",
      "X.shape: (9536, 26), y.shape: (9536,)\n",
      "Result on ewm -\n",
      "                    Model  Accuracy Mean  Accuracy Dev\n",
      "0           XGBClassifier       0.828333      0.009299\n",
      "1           MLPClassifier       0.832111      0.014448\n",
      "2  RandomForestClassifier       0.836828      0.008593\n",
      "3      LogisticRegression       0.845951      0.009300\n",
      "4                     SVC       0.836408      0.009373\n",
      "5  DecisionTreeClassifier       0.758494      0.010015\n",
      "------------------------------\n"
     ]
    }
   ],
   "source": [
    "df_paths = {\n",
    "    \"matches_gathered\": '../../../data/ncaa/processed/2019/accumulated/matches_gathered.csv',\n",
    "    \"sma\": '../../../data/ncaa/processed/2019/accumulated/10_sma.csv',\n",
    "    \"cma\": '../../../data/ncaa/processed/2019/accumulated/cma.csv',\n",
    "    \"ewm\": '../../../data/ncaa/processed/2019/accumulated/0.2_ewm.csv',\n",
    "}\n",
    "\n",
    "features = [\"Team A Kills\", \"Team A Errors\", \"Team A Total Attacks\", \"Team A Hit Pct\", \"Team A Assists\", \"Team A Aces\", \"Team A SErr\", \"Team A Digs\", \"Team A RErr\", \"Team A Block Solos\", \"Team A Block Assists\", \"Team A BErr\", \"Team A PTS\", \"Team B Kills\", \"Team B Errors\", \"Team B Total Attacks\", \"Team B Hit Pct\", \"Team B Assists\", \"Team B Aces\", \"Team B SErr\", \"Team B Digs\", \"Team B RErr\", \"Team B Block Solos\", \"Team B Block Assists\", \"Team B BErr\", \"Team B PTS\"]\n",
    "\n",
    "for name, path in df_paths.items():\n",
    "    print(f\"\\n{name} -\")\n",
    "    df = pd.read_csv(path)\n",
    "    X = df[features]\n",
    "    y = df[\"Result\"]\n",
    "    print(f\"X.shape: {X.shape}, y.shape: {y.shape}\")\n",
    "\n",
    "    models = [\n",
    "        XGBClassifier(),\n",
    "        MLPClassifier(),\n",
    "        RandomForestClassifier(),\n",
    "        LogisticRegression(),\n",
    "        SVC(),\n",
    "        DecisionTreeClassifier(),\n",
    "    ]\n",
    "    result_dict = {\"Model\": [], \"Accuracy Mean\": [], \"Accuracy Dev\": []}\n",
    "    for m in models:\n",
    "        scores = cross_val_score(m, X, y, scoring=\"accuracy\")\n",
    "        result_dict[\"Model\"].append(m.__class__.__name__)\n",
    "        result_dict[\"Accuracy Mean\"].append(scores.mean())\n",
    "        result_dict[\"Accuracy Dev\"].append(scores.std())\n",
    "\n",
    "    results_df = pd.DataFrame(result_dict)\n",
    "    print(f\"Result on {name} -\")\n",
    "    print(results_df)\n",
    "    print(\"-\" * 30)\n",
    "    del df\n"
   ]
  }
 ]
}