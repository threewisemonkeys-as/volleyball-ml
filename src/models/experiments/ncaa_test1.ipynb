{
 "metadata": {
  "language_info": {
   "codemirror_mode": {
    "name": "ipython",
    "version": 3
   },
   "file_extension": ".py",
   "mimetype": "text/x-python",
   "name": "python",
   "nbconvert_exporter": "python",
   "pygments_lexer": "ipython3",
   "version": "3.8.5-final"
  },
  "orig_nbformat": 2,
  "kernelspec": {
   "name": "Python 3.8.5 64-bit ('volleyball-ml': conda)",
   "display_name": "Python 3.8.5 64-bit ('volleyball-ml': conda)",
   "metadata": {
    "interpreter": {
     "hash": "c30b36b8d550a859a8d0a1ee9d7da01957e1a188a0d80e6c684f5bae5519e194"
    }
   }
  }
 },
 "nbformat": 4,
 "nbformat_minor": 2,
 "cells": [
  {
   "cell_type": "code",
   "execution_count": 21,
   "metadata": {},
   "outputs": [],
   "source": [
    "import pandas as pd\n",
    "import seaborn as sns\n",
    "import sklearn\n",
    "import numpy as np\n",
    "from xgboost import XGBClassifier\n",
    "from sklearn.model_selection import train_test_split\n",
    "from sklearn.metrics import accuracy_score, roc_auc_score\n",
    "from sklearn.model_selection import cross_val_score\n",
    "from sklearn.neural_network import MLPClassifier\n",
    "from sklearn.ensemble import RandomForestClassifier\n",
    "from sklearn.linear_model import LogisticRegression\n",
    "from sklearn.svm import SVC\n",
    "from sklearn.tree import DecisionTreeClassifier\n",
    "import os\n",
    "from pathlib import Path"
   ]
  },
  {
   "cell_type": "code",
   "execution_count": 47,
   "metadata": {
    "tags": []
   },
   "outputs": [],
   "source": [
    "year = 2019\n",
    "for root, dirs, files in os.walk(f'../../../data/ncaa/raw/{year}/team_game_by_game/'):\n",
    "    for f in files:\n",
    "        df = pd.read_csv(Path(root).joinpath(f), header=1)\n",
    "        df.drop(columns=[\"MP\", \"Attend\", \"BHE\", \"Unnamed: 20\"], inplace=True)\n",
    "        df.replace({'/':''}, regex=True, inplace=True)\n",
    "        df.fillna(0, inplace=True)\n",
    "        df[[\"Kills\", \"Errors\", \"Total Attacks\", \"Assists\", \"Aces\", \"SErr\", \"Digs\", \"RErr\", \"Block Solos\", \"Block Assists\", \"BErr\"]] = df[[\"Kills\", \"Errors\", \"Total Attacks\", \"Assists\", \"Aces\", \"SErr\", \"Digs\", \"RErr\", \"Block Solos\", \"Block Assists\", \"BErr\"]].astype(int)\n",
    "        outpath = Path(root).parent.parent.parent.joinpath(f\"processed/{year}/game_by_game_cleaned/\")\n",
    "        outpath.mkdir(parents=True, exist_ok=True)\n",
    "        df.to_csv(outpath.joinpath(f), index=False)"
   ]
  },
  {
   "cell_type": "code",
   "execution_count": 48,
   "metadata": {},
   "outputs": [
    {
     "output_type": "stream",
     "name": "stdout",
     "text": [
      "2019 332\n"
     ]
    }
   ],
   "source": [
    "year = 2019\n",
    "dfs = []\n",
    "team_names = []\n",
    "for root, dirs, files in os.walk(f'../../../data/ncaa/processed/{year}/game_by_game_cleaned'):\n",
    "    for f in files:\n",
    "        team_names.append(f[:-4])\n",
    "        dfs.append(pd.read_csv(Path(root).joinpath(f)))\n",
    "print(year, len(dfs))"
   ]
  },
  {
   "cell_type": "code",
   "execution_count": 49,
   "metadata": {},
   "outputs": [
    {
     "output_type": "execute_result",
     "data": {
      "text/plain": [
       "        Date                               Opponent   Result  S  Kills  \\\n",
       "0    8302019              Cal Poly @ Salt Lake City  W 3 - 0  3     44   \n",
       "1    8302019                                 @ Utah  L 0 - 3  3     36   \n",
       "2    8312019     Saint Mary's (CA) @ Salt Lake City  W 3 - 0  3     42   \n",
       "3    9062019            Creighton @ Cedar Falls, IA  L 1 - 3  4     55   \n",
       "4    9062019  Southern California @ Cedar Falls, IA  W 3 - 1  4     63   \n",
       "5    9072019                                  @ UNI  W 3 - 0  3     40   \n",
       "6    9132019                          Cleveland St.  W 3 - 0  3     45   \n",
       "7    9132019                                   FGCU  W 3 - 1  4     69   \n",
       "8    9142019                                Indiana  L 2 - 3  5     57   \n",
       "9    9182019                                 Purdue  L 2 - 3  5     66   \n",
       "10   9202019                             Louisville  W 3 - 0  3     47   \n",
       "11   9272019                        Mississippi St.  W 3 - 1  4     61   \n",
       "12   9292019                             @ Missouri  W 3 - 0  3     43   \n",
       "13  10042019                         South Carolina  W 3 - 0  3     44   \n",
       "14  10062019                                Florida  W 3 - 2  5     63   \n",
       "15  10112019                                Georgia  L 2 - 3  5     72   \n",
       "16  10162019                            @ Tennessee  W 3 - 0  3     53   \n",
       "17  10202019                              @ Alabama  W 3 - 0  3     48   \n",
       "18  10232019                                    LSU  W 3 - 0  3     42   \n",
       "19  10272019                             @ Ole Miss  W 3 - 1  4     59   \n",
       "20  11012019                              Texas A&M  L 1 - 3  4     55   \n",
       "21  11032019                               Arkansas  W 3 - 0  3     43   \n",
       "22  11082019                              @ Georgia  W 3 - 0  3     39   \n",
       "23  11102019                               @ Auburn  W 3 - 0  3     45   \n",
       "24  11152019                       @ South Carolina  W 3 - 0  3     50   \n",
       "25  11172019                              @ Florida  W 3 - 2  5     78   \n",
       "26  11202019                               Missouri  W 3 - 0  3     39   \n",
       "27  11272019                                  @ LSU  W 3 - 1  4     58   \n",
       "28  11302019                               Ole Miss  W 3 - 0  3     47   \n",
       "29  12062019                      Southeast Mo. St.  W 3 - 0  3     47   \n",
       "30  12072019                               Michigan  W 3 - 0  3     40   \n",
       "31  12132019               Washington @ Waco, Texas  L 1 - 3  4     55   \n",
       "\n",
       "    Errors  Total Attacks  Hit Pct  Assists  Aces  SErr  Digs  RErr  \\\n",
       "0       10            105    0.324       42     5     5    52     4   \n",
       "1       30            107    0.056       35     3     5    36     3   \n",
       "2       11             86    0.360       39     6     6    30     3   \n",
       "3       22            152    0.217       49     3     3    67     4   \n",
       "4       25            176    0.216       61     6    10    76     4   \n",
       "5       14             99    0.263       38     6     8    48     1   \n",
       "6        9            103    0.350       44     6     5    48     2   \n",
       "7       26            166    0.259       63     3    11    71     5   \n",
       "8       29            161    0.174       56     3     6    72     6   \n",
       "9       32            189    0.180       56     4     5    73     3   \n",
       "10      13             98    0.347       46     6     6    44     2   \n",
       "11      20            135    0.304       55     6    12    57     2   \n",
       "12      12            107    0.290       42     2     4    36     5   \n",
       "13      11            109    0.303       40     3     9    49     0   \n",
       "14      22            173    0.237       59     4     8    74     5   \n",
       "15      22            171    0.292       67     2     9    73     4   \n",
       "16      10            121    0.355       44     0     8    49     3   \n",
       "17       6             83    0.506       44     4     7    41     0   \n",
       "18      10             99    0.323       38     3     7    44     3   \n",
       "19      21            155    0.245       56     4     9    63     3   \n",
       "20      18            122    0.303       52     3    11    37     9   \n",
       "21      14             99    0.293       37     6     6    49     4   \n",
       "22      12            109    0.248       37     9     9    42     0   \n",
       "23      15            124    0.242       41     2     6    69     1   \n",
       "24       9             98    0.418       45     7     9    28     1   \n",
       "25      20            176    0.330       74     7    14    69     8   \n",
       "26      14             92    0.272       38     4     6    35     1   \n",
       "27      29            184    0.158       53     8     8    76     0   \n",
       "28       8             98    0.398       44     7    12    34     6   \n",
       "29       9            125    0.304       38     6     6    51     2   \n",
       "30      10             93    0.323       35     3     8    39     3   \n",
       "31      20            129    0.271       53     9    11    49     7   \n",
       "\n",
       "    Block Solos  Block Assists  BErr   PTS  \n",
       "0             1             16     0  58.0  \n",
       "1             0             10     0  44.0  \n",
       "2             2             22     2  61.0  \n",
       "3             0              8     4  62.0  \n",
       "4             2              8     3  75.0  \n",
       "5             2             14     3  55.0  \n",
       "6             1              8     1  56.0  \n",
       "7             3             14     2  82.0  \n",
       "8             0             27     2  73.5  \n",
       "9             3             14     2  80.0  \n",
       "10            3             12     2  62.0  \n",
       "11            3              6     1  73.0  \n",
       "12            1             18     0  55.0  \n",
       "13            4             12     2  57.0  \n",
       "14            2             16     2  77.0  \n",
       "15            2             26     3  89.0  \n",
       "16            1              8     2  58.0  \n",
       "17            7              8     0  63.0  \n",
       "18            1             10     1  51.0  \n",
       "19            1             20     4  74.0  \n",
       "20            1             14     1  66.0  \n",
       "21            3             10     1  57.0  \n",
       "22            2             12     0  56.0  \n",
       "23            0             19     2  56.5  \n",
       "24            2             12     2  65.0  \n",
       "25            0             16     1  93.0  \n",
       "26            2             21     2  55.5  \n",
       "27            0             14     1  73.0  \n",
       "28            3             12     0  63.0  \n",
       "29            0             16     0  61.0  \n",
       "30            1             20     1  54.0  \n",
       "31            2             12     0  72.0  "
      ],
      "text/html": "<div>\n<style scoped>\n    .dataframe tbody tr th:only-of-type {\n        vertical-align: middle;\n    }\n\n    .dataframe tbody tr th {\n        vertical-align: top;\n    }\n\n    .dataframe thead th {\n        text-align: right;\n    }\n</style>\n<table border=\"1\" class=\"dataframe\">\n  <thead>\n    <tr style=\"text-align: right;\">\n      <th></th>\n      <th>Date</th>\n      <th>Opponent</th>\n      <th>Result</th>\n      <th>S</th>\n      <th>Kills</th>\n      <th>Errors</th>\n      <th>Total Attacks</th>\n      <th>Hit Pct</th>\n      <th>Assists</th>\n      <th>Aces</th>\n      <th>SErr</th>\n      <th>Digs</th>\n      <th>RErr</th>\n      <th>Block Solos</th>\n      <th>Block Assists</th>\n      <th>BErr</th>\n      <th>PTS</th>\n    </tr>\n  </thead>\n  <tbody>\n    <tr>\n      <th>0</th>\n      <td>8302019</td>\n      <td>Cal Poly @ Salt Lake City</td>\n      <td>W 3 - 0</td>\n      <td>3</td>\n      <td>44</td>\n      <td>10</td>\n      <td>105</td>\n      <td>0.324</td>\n      <td>42</td>\n      <td>5</td>\n      <td>5</td>\n      <td>52</td>\n      <td>4</td>\n      <td>1</td>\n      <td>16</td>\n      <td>0</td>\n      <td>58.0</td>\n    </tr>\n    <tr>\n      <th>1</th>\n      <td>8302019</td>\n      <td>@ Utah</td>\n      <td>L 0 - 3</td>\n      <td>3</td>\n      <td>36</td>\n      <td>30</td>\n      <td>107</td>\n      <td>0.056</td>\n      <td>35</td>\n      <td>3</td>\n      <td>5</td>\n      <td>36</td>\n      <td>3</td>\n      <td>0</td>\n      <td>10</td>\n      <td>0</td>\n      <td>44.0</td>\n    </tr>\n    <tr>\n      <th>2</th>\n      <td>8312019</td>\n      <td>Saint Mary's (CA) @ Salt Lake City</td>\n      <td>W 3 - 0</td>\n      <td>3</td>\n      <td>42</td>\n      <td>11</td>\n      <td>86</td>\n      <td>0.360</td>\n      <td>39</td>\n      <td>6</td>\n      <td>6</td>\n      <td>30</td>\n      <td>3</td>\n      <td>2</td>\n      <td>22</td>\n      <td>2</td>\n      <td>61.0</td>\n    </tr>\n    <tr>\n      <th>3</th>\n      <td>9062019</td>\n      <td>Creighton @ Cedar Falls, IA</td>\n      <td>L 1 - 3</td>\n      <td>4</td>\n      <td>55</td>\n      <td>22</td>\n      <td>152</td>\n      <td>0.217</td>\n      <td>49</td>\n      <td>3</td>\n      <td>3</td>\n      <td>67</td>\n      <td>4</td>\n      <td>0</td>\n      <td>8</td>\n      <td>4</td>\n      <td>62.0</td>\n    </tr>\n    <tr>\n      <th>4</th>\n      <td>9062019</td>\n      <td>Southern California @ Cedar Falls, IA</td>\n      <td>W 3 - 1</td>\n      <td>4</td>\n      <td>63</td>\n      <td>25</td>\n      <td>176</td>\n      <td>0.216</td>\n      <td>61</td>\n      <td>6</td>\n      <td>10</td>\n      <td>76</td>\n      <td>4</td>\n      <td>2</td>\n      <td>8</td>\n      <td>3</td>\n      <td>75.0</td>\n    </tr>\n    <tr>\n      <th>5</th>\n      <td>9072019</td>\n      <td>@ UNI</td>\n      <td>W 3 - 0</td>\n      <td>3</td>\n      <td>40</td>\n      <td>14</td>\n      <td>99</td>\n      <td>0.263</td>\n      <td>38</td>\n      <td>6</td>\n      <td>8</td>\n      <td>48</td>\n      <td>1</td>\n      <td>2</td>\n      <td>14</td>\n      <td>3</td>\n      <td>55.0</td>\n    </tr>\n    <tr>\n      <th>6</th>\n      <td>9132019</td>\n      <td>Cleveland St.</td>\n      <td>W 3 - 0</td>\n      <td>3</td>\n      <td>45</td>\n      <td>9</td>\n      <td>103</td>\n      <td>0.350</td>\n      <td>44</td>\n      <td>6</td>\n      <td>5</td>\n      <td>48</td>\n      <td>2</td>\n      <td>1</td>\n      <td>8</td>\n      <td>1</td>\n      <td>56.0</td>\n    </tr>\n    <tr>\n      <th>7</th>\n      <td>9132019</td>\n      <td>FGCU</td>\n      <td>W 3 - 1</td>\n      <td>4</td>\n      <td>69</td>\n      <td>26</td>\n      <td>166</td>\n      <td>0.259</td>\n      <td>63</td>\n      <td>3</td>\n      <td>11</td>\n      <td>71</td>\n      <td>5</td>\n      <td>3</td>\n      <td>14</td>\n      <td>2</td>\n      <td>82.0</td>\n    </tr>\n    <tr>\n      <th>8</th>\n      <td>9142019</td>\n      <td>Indiana</td>\n      <td>L 2 - 3</td>\n      <td>5</td>\n      <td>57</td>\n      <td>29</td>\n      <td>161</td>\n      <td>0.174</td>\n      <td>56</td>\n      <td>3</td>\n      <td>6</td>\n      <td>72</td>\n      <td>6</td>\n      <td>0</td>\n      <td>27</td>\n      <td>2</td>\n      <td>73.5</td>\n    </tr>\n    <tr>\n      <th>9</th>\n      <td>9182019</td>\n      <td>Purdue</td>\n      <td>L 2 - 3</td>\n      <td>5</td>\n      <td>66</td>\n      <td>32</td>\n      <td>189</td>\n      <td>0.180</td>\n      <td>56</td>\n      <td>4</td>\n      <td>5</td>\n      <td>73</td>\n      <td>3</td>\n      <td>3</td>\n      <td>14</td>\n      <td>2</td>\n      <td>80.0</td>\n    </tr>\n    <tr>\n      <th>10</th>\n      <td>9202019</td>\n      <td>Louisville</td>\n      <td>W 3 - 0</td>\n      <td>3</td>\n      <td>47</td>\n      <td>13</td>\n      <td>98</td>\n      <td>0.347</td>\n      <td>46</td>\n      <td>6</td>\n      <td>6</td>\n      <td>44</td>\n      <td>2</td>\n      <td>3</td>\n      <td>12</td>\n      <td>2</td>\n      <td>62.0</td>\n    </tr>\n    <tr>\n      <th>11</th>\n      <td>9272019</td>\n      <td>Mississippi St.</td>\n      <td>W 3 - 1</td>\n      <td>4</td>\n      <td>61</td>\n      <td>20</td>\n      <td>135</td>\n      <td>0.304</td>\n      <td>55</td>\n      <td>6</td>\n      <td>12</td>\n      <td>57</td>\n      <td>2</td>\n      <td>3</td>\n      <td>6</td>\n      <td>1</td>\n      <td>73.0</td>\n    </tr>\n    <tr>\n      <th>12</th>\n      <td>9292019</td>\n      <td>@ Missouri</td>\n      <td>W 3 - 0</td>\n      <td>3</td>\n      <td>43</td>\n      <td>12</td>\n      <td>107</td>\n      <td>0.290</td>\n      <td>42</td>\n      <td>2</td>\n      <td>4</td>\n      <td>36</td>\n      <td>5</td>\n      <td>1</td>\n      <td>18</td>\n      <td>0</td>\n      <td>55.0</td>\n    </tr>\n    <tr>\n      <th>13</th>\n      <td>10042019</td>\n      <td>South Carolina</td>\n      <td>W 3 - 0</td>\n      <td>3</td>\n      <td>44</td>\n      <td>11</td>\n      <td>109</td>\n      <td>0.303</td>\n      <td>40</td>\n      <td>3</td>\n      <td>9</td>\n      <td>49</td>\n      <td>0</td>\n      <td>4</td>\n      <td>12</td>\n      <td>2</td>\n      <td>57.0</td>\n    </tr>\n    <tr>\n      <th>14</th>\n      <td>10062019</td>\n      <td>Florida</td>\n      <td>W 3 - 2</td>\n      <td>5</td>\n      <td>63</td>\n      <td>22</td>\n      <td>173</td>\n      <td>0.237</td>\n      <td>59</td>\n      <td>4</td>\n      <td>8</td>\n      <td>74</td>\n      <td>5</td>\n      <td>2</td>\n      <td>16</td>\n      <td>2</td>\n      <td>77.0</td>\n    </tr>\n    <tr>\n      <th>15</th>\n      <td>10112019</td>\n      <td>Georgia</td>\n      <td>L 2 - 3</td>\n      <td>5</td>\n      <td>72</td>\n      <td>22</td>\n      <td>171</td>\n      <td>0.292</td>\n      <td>67</td>\n      <td>2</td>\n      <td>9</td>\n      <td>73</td>\n      <td>4</td>\n      <td>2</td>\n      <td>26</td>\n      <td>3</td>\n      <td>89.0</td>\n    </tr>\n    <tr>\n      <th>16</th>\n      <td>10162019</td>\n      <td>@ Tennessee</td>\n      <td>W 3 - 0</td>\n      <td>3</td>\n      <td>53</td>\n      <td>10</td>\n      <td>121</td>\n      <td>0.355</td>\n      <td>44</td>\n      <td>0</td>\n      <td>8</td>\n      <td>49</td>\n      <td>3</td>\n      <td>1</td>\n      <td>8</td>\n      <td>2</td>\n      <td>58.0</td>\n    </tr>\n    <tr>\n      <th>17</th>\n      <td>10202019</td>\n      <td>@ Alabama</td>\n      <td>W 3 - 0</td>\n      <td>3</td>\n      <td>48</td>\n      <td>6</td>\n      <td>83</td>\n      <td>0.506</td>\n      <td>44</td>\n      <td>4</td>\n      <td>7</td>\n      <td>41</td>\n      <td>0</td>\n      <td>7</td>\n      <td>8</td>\n      <td>0</td>\n      <td>63.0</td>\n    </tr>\n    <tr>\n      <th>18</th>\n      <td>10232019</td>\n      <td>LSU</td>\n      <td>W 3 - 0</td>\n      <td>3</td>\n      <td>42</td>\n      <td>10</td>\n      <td>99</td>\n      <td>0.323</td>\n      <td>38</td>\n      <td>3</td>\n      <td>7</td>\n      <td>44</td>\n      <td>3</td>\n      <td>1</td>\n      <td>10</td>\n      <td>1</td>\n      <td>51.0</td>\n    </tr>\n    <tr>\n      <th>19</th>\n      <td>10272019</td>\n      <td>@ Ole Miss</td>\n      <td>W 3 - 1</td>\n      <td>4</td>\n      <td>59</td>\n      <td>21</td>\n      <td>155</td>\n      <td>0.245</td>\n      <td>56</td>\n      <td>4</td>\n      <td>9</td>\n      <td>63</td>\n      <td>3</td>\n      <td>1</td>\n      <td>20</td>\n      <td>4</td>\n      <td>74.0</td>\n    </tr>\n    <tr>\n      <th>20</th>\n      <td>11012019</td>\n      <td>Texas A&amp;M</td>\n      <td>L 1 - 3</td>\n      <td>4</td>\n      <td>55</td>\n      <td>18</td>\n      <td>122</td>\n      <td>0.303</td>\n      <td>52</td>\n      <td>3</td>\n      <td>11</td>\n      <td>37</td>\n      <td>9</td>\n      <td>1</td>\n      <td>14</td>\n      <td>1</td>\n      <td>66.0</td>\n    </tr>\n    <tr>\n      <th>21</th>\n      <td>11032019</td>\n      <td>Arkansas</td>\n      <td>W 3 - 0</td>\n      <td>3</td>\n      <td>43</td>\n      <td>14</td>\n      <td>99</td>\n      <td>0.293</td>\n      <td>37</td>\n      <td>6</td>\n      <td>6</td>\n      <td>49</td>\n      <td>4</td>\n      <td>3</td>\n      <td>10</td>\n      <td>1</td>\n      <td>57.0</td>\n    </tr>\n    <tr>\n      <th>22</th>\n      <td>11082019</td>\n      <td>@ Georgia</td>\n      <td>W 3 - 0</td>\n      <td>3</td>\n      <td>39</td>\n      <td>12</td>\n      <td>109</td>\n      <td>0.248</td>\n      <td>37</td>\n      <td>9</td>\n      <td>9</td>\n      <td>42</td>\n      <td>0</td>\n      <td>2</td>\n      <td>12</td>\n      <td>0</td>\n      <td>56.0</td>\n    </tr>\n    <tr>\n      <th>23</th>\n      <td>11102019</td>\n      <td>@ Auburn</td>\n      <td>W 3 - 0</td>\n      <td>3</td>\n      <td>45</td>\n      <td>15</td>\n      <td>124</td>\n      <td>0.242</td>\n      <td>41</td>\n      <td>2</td>\n      <td>6</td>\n      <td>69</td>\n      <td>1</td>\n      <td>0</td>\n      <td>19</td>\n      <td>2</td>\n      <td>56.5</td>\n    </tr>\n    <tr>\n      <th>24</th>\n      <td>11152019</td>\n      <td>@ South Carolina</td>\n      <td>W 3 - 0</td>\n      <td>3</td>\n      <td>50</td>\n      <td>9</td>\n      <td>98</td>\n      <td>0.418</td>\n      <td>45</td>\n      <td>7</td>\n      <td>9</td>\n      <td>28</td>\n      <td>1</td>\n      <td>2</td>\n      <td>12</td>\n      <td>2</td>\n      <td>65.0</td>\n    </tr>\n    <tr>\n      <th>25</th>\n      <td>11172019</td>\n      <td>@ Florida</td>\n      <td>W 3 - 2</td>\n      <td>5</td>\n      <td>78</td>\n      <td>20</td>\n      <td>176</td>\n      <td>0.330</td>\n      <td>74</td>\n      <td>7</td>\n      <td>14</td>\n      <td>69</td>\n      <td>8</td>\n      <td>0</td>\n      <td>16</td>\n      <td>1</td>\n      <td>93.0</td>\n    </tr>\n    <tr>\n      <th>26</th>\n      <td>11202019</td>\n      <td>Missouri</td>\n      <td>W 3 - 0</td>\n      <td>3</td>\n      <td>39</td>\n      <td>14</td>\n      <td>92</td>\n      <td>0.272</td>\n      <td>38</td>\n      <td>4</td>\n      <td>6</td>\n      <td>35</td>\n      <td>1</td>\n      <td>2</td>\n      <td>21</td>\n      <td>2</td>\n      <td>55.5</td>\n    </tr>\n    <tr>\n      <th>27</th>\n      <td>11272019</td>\n      <td>@ LSU</td>\n      <td>W 3 - 1</td>\n      <td>4</td>\n      <td>58</td>\n      <td>29</td>\n      <td>184</td>\n      <td>0.158</td>\n      <td>53</td>\n      <td>8</td>\n      <td>8</td>\n      <td>76</td>\n      <td>0</td>\n      <td>0</td>\n      <td>14</td>\n      <td>1</td>\n      <td>73.0</td>\n    </tr>\n    <tr>\n      <th>28</th>\n      <td>11302019</td>\n      <td>Ole Miss</td>\n      <td>W 3 - 0</td>\n      <td>3</td>\n      <td>47</td>\n      <td>8</td>\n      <td>98</td>\n      <td>0.398</td>\n      <td>44</td>\n      <td>7</td>\n      <td>12</td>\n      <td>34</td>\n      <td>6</td>\n      <td>3</td>\n      <td>12</td>\n      <td>0</td>\n      <td>63.0</td>\n    </tr>\n    <tr>\n      <th>29</th>\n      <td>12062019</td>\n      <td>Southeast Mo. St.</td>\n      <td>W 3 - 0</td>\n      <td>3</td>\n      <td>47</td>\n      <td>9</td>\n      <td>125</td>\n      <td>0.304</td>\n      <td>38</td>\n      <td>6</td>\n      <td>6</td>\n      <td>51</td>\n      <td>2</td>\n      <td>0</td>\n      <td>16</td>\n      <td>0</td>\n      <td>61.0</td>\n    </tr>\n    <tr>\n      <th>30</th>\n      <td>12072019</td>\n      <td>Michigan</td>\n      <td>W 3 - 0</td>\n      <td>3</td>\n      <td>40</td>\n      <td>10</td>\n      <td>93</td>\n      <td>0.323</td>\n      <td>35</td>\n      <td>3</td>\n      <td>8</td>\n      <td>39</td>\n      <td>3</td>\n      <td>1</td>\n      <td>20</td>\n      <td>1</td>\n      <td>54.0</td>\n    </tr>\n    <tr>\n      <th>31</th>\n      <td>12132019</td>\n      <td>Washington @ Waco, Texas</td>\n      <td>L 1 - 3</td>\n      <td>4</td>\n      <td>55</td>\n      <td>20</td>\n      <td>129</td>\n      <td>0.271</td>\n      <td>53</td>\n      <td>9</td>\n      <td>11</td>\n      <td>49</td>\n      <td>7</td>\n      <td>2</td>\n      <td>12</td>\n      <td>0</td>\n      <td>72.0</td>\n    </tr>\n  </tbody>\n</table>\n</div>"
     },
     "metadata": {},
     "execution_count": 49
    }
   ],
   "source": [
    "dfs[130]"
   ]
  },
  {
   "cell_type": "code",
   "execution_count": null,
   "metadata": {},
   "outputs": [],
   "source": []
  },
  {
   "cell_type": "code",
   "execution_count": null,
   "metadata": {},
   "outputs": [],
   "source": []
  }
 ]
}