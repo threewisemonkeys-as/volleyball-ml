{
 "metadata": {
  "language_info": {
   "codemirror_mode": {
    "name": "ipython",
    "version": 3
   },
   "file_extension": ".py",
   "mimetype": "text/x-python",
   "name": "python",
   "nbconvert_exporter": "python",
   "pygments_lexer": "ipython3",
   "version": "3.8.5-final"
  },
  "orig_nbformat": 2,
  "kernelspec": {
   "name": "python3",
   "display_name": "Python 3"
  }
 },
 "nbformat": 4,
 "nbformat_minor": 2,
 "cells": [
  {
   "cell_type": "code",
   "execution_count": 44,
   "metadata": {},
   "outputs": [],
   "source": [
    "import pandas as pd\n",
    "import seaborn as sns\n",
    "import sklearn\n",
    "import numpy as np\n",
    "from xgboost import XGBClassifier\n",
    "from sklearn.model_selection import train_test_split\n",
    "from sklearn.metrics import accuracy_score, roc_auc_score\n",
    "from sklearn.model_selection import cross_val_score\n",
    "from sklearn.model_selection import StratifiedKFold\n",
    "from sklearn.neural_network import MLPClassifier\n",
    "from sklearn.ensemble import RandomForestClassifier\n",
    "from sklearn.linear_model import LogisticRegression\n",
    "from sklearn.svm import SVC\n",
    "from sklearn.tree import DecisionTreeClassifier\n",
    "from sklearn.preprocessing import StandardScaler\n",
    "from sklearn.preprocessing import MinMaxScaler\n",
    "from sklearn.pipeline import Pipeline\n",
    "from sklearn.decomposition import PCA\n",
    "import matplotlib.pyplot as plt\n",
    "import torch\n",
    "import pytorch_lightning as pl"
   ]
  },
  {
   "cell_type": "code",
   "execution_count": 46,
   "metadata": {},
   "outputs": [],
   "source": [
    "features = [\"Team A Kills\", \"Team A Errors\", \"Team A Total Attacks\", \"Team A Hit Pct\", \"Team A Assists\", \"Team A Aces\", \"Team A SErr\", \"Team A Digs\", \"Team A RErr\", \"Team A Block Solos\", \"Team A Block Assists\", \"Team A BErr\", \"Team A PTS\", \"Team B Kills\", \"Team B Errors\", \"Team B Total Attacks\", \"Team B Hit Pct\", \"Team B Assists\", \"Team B Aces\", \"Team B SErr\", \"Team B Digs\", \"Team B RErr\", \"Team B Block Solos\", \"Team B Block Assists\", \"Team B BErr\", \"Team B PTS\"]\n",
    "\n",
    "matches_gathered_df = pd.read_csv('../../../data/ncaa/processed/2019/accumulated/matches_gathered.csv')\n",
    "matches_gathered_X, matches_gathered_y = matches_gathered_df[features], matches_gathered_df[\"Result\"]\n",
    "\n",
    "sma_df = pd.read_csv('../../../data/ncaa/processed/2019/accumulated/10_sma.csv')\n",
    "sma_X, sma_y = sma_df[features], sma_df[\"Result\"]\n",
    "\n",
    "cma_df = pd.read_csv( '../../../data/ncaa/processed/2019/accumulated/cma.csv')\n",
    "cma_X, cma_y = cma_df[features], cma_df[\"Result\"]\n",
    "\n",
    "ewm_df = pd.read_csv('../../../data/ncaa/processed/2019/accumulated/0.2_ewm.csv')\n",
    "ewm_X, ewm_y = ewm_df[features], ewm_df[\"Result\"]"
   ]
  },
  {
   "source": [
    "# Evaluating models with default parameters and all featuress"
   ],
   "cell_type": "markdown",
   "metadata": {}
  },
  {
   "cell_type": "code",
   "execution_count": 47,
   "metadata": {},
   "outputs": [
    {
     "output_type": "stream",
     "name": "stdout",
     "text": [
      "\n",
      "matches_gathered -\n",
      "X.shape: (9536, 26), y.shape: (9536,)\n",
      "Result on matches_gathered -\n",
      "                    Model  Accuracy Mean  Accuracy Dev\n",
      "0           XGBClassifier       0.916946      0.006083\n",
      "1           MLPClassifier       0.921035      0.011356\n",
      "2  RandomForestClassifier       0.913800      0.008220\n",
      "3      LogisticRegression       0.933934      0.005869\n",
      "4                     SVC       0.925440      0.007496\n",
      "5  DecisionTreeClassifier       0.874265      0.010522\n",
      "--------------------------------------------------\n",
      "\n",
      "sma -\n",
      "X.shape: (8891, 26), y.shape: (8891,)\n",
      "Result on sma -\n",
      "                    Model  Accuracy Mean  Accuracy Dev\n",
      "0           XGBClassifier       0.739060      0.011357\n",
      "1           MLPClassifier       0.736474      0.007186\n",
      "2  RandomForestClassifier       0.749296      0.011533\n",
      "3      LogisticRegression       0.761669      0.009273\n",
      "4                     SVC       0.751433      0.007157\n",
      "5  DecisionTreeClassifier       0.658756      0.006790\n",
      "--------------------------------------------------\n",
      "\n",
      "cma -\n",
      "X.shape: (8891, 26), y.shape: (8891,)\n",
      "Result on cma -\n",
      "                    Model  Accuracy Mean  Accuracy Dev\n",
      "0           XGBClassifier       0.739062      0.005331\n",
      "1           MLPClassifier       0.727476      0.008981\n",
      "2  RandomForestClassifier       0.744121      0.013798\n",
      "3      LogisticRegression       0.753570      0.008065\n",
      "4                     SVC       0.747272      0.005376\n",
      "5  DecisionTreeClassifier       0.648519      0.014017\n",
      "--------------------------------------------------\n",
      "\n",
      "ewm -\n",
      "X.shape: (8891, 26), y.shape: (8891,)\n",
      "Result on ewm -\n",
      "                    Model  Accuracy Mean  Accuracy Dev\n",
      "0           XGBClassifier       0.781013      0.007588\n",
      "1           MLPClassifier       0.777751      0.009779\n",
      "2  RandomForestClassifier       0.785738      0.010993\n",
      "3      LogisticRegression       0.799684      0.008450\n",
      "4                     SVC       0.793498      0.008852\n",
      "5  DecisionTreeClassifier       0.701497      0.012050\n",
      "--------------------------------------------------\n"
     ]
    }
   ],
   "source": [
    "data_dict = {\n",
    "    \"matches_gathered\": (matches_gathered_X, matches_gathered_y),\n",
    "    \"sma\": (sma_X, sma_y),\n",
    "    \"cma\": (cma_X, cma_y),\n",
    "    \"ewm\": (ewm_X, ewm_y),\n",
    "}\n",
    "\n",
    "for name, (X, y) in data_dict.items():\n",
    "    print(f\"\\n{name} -\")\n",
    "    X_scaled = StandardScaler().fit_transform(X)\n",
    "    print(f\"X.shape: {X.shape}, y.shape: {y.shape}\")\n",
    "\n",
    "    models = [\n",
    "        XGBClassifier(),\n",
    "        MLPClassifier(),\n",
    "        RandomForestClassifier(),\n",
    "        LogisticRegression(),\n",
    "        SVC(),\n",
    "        DecisionTreeClassifier(),\n",
    "    ]\n",
    "    result_dict = {\"Model\": [], \"Accuracy Mean\": [], \"Accuracy Dev\": []}\n",
    "    for m in models:\n",
    "        scores = cross_val_score(m, X_scaled, y, scoring=\"accuracy\", cv=StratifiedKFold(), n_jobs=-1)\n",
    "        result_dict[\"Model\"].append(m.__class__.__name__)\n",
    "        result_dict[\"Accuracy Mean\"].append(scores.mean())\n",
    "        result_dict[\"Accuracy Dev\"].append(scores.std())\n",
    "\n",
    "    results_df = pd.DataFrame(result_dict)\n",
    "    print(f\"Result on {name} -\")\n",
    "    print(results_df)\n",
    "    print(\"-\" * 50)\n"
   ]
  },
  {
   "cell_type": "code",
   "execution_count": 48,
   "metadata": {},
   "outputs": [
    {
     "output_type": "execute_result",
     "data": {
      "text/plain": [
       "0.8002461538850645"
      ]
     },
     "metadata": {},
     "execution_count": 48
    }
   ],
   "source": [
    "np.mean(cross_val_score(LogisticRegression() , ewm_X, ewm_y, scoring='accuracy', cv=StratifiedKFold(), n_jobs=-1))"
   ]
  },
  {
   "cell_type": "code",
   "execution_count": 52,
   "metadata": {},
   "outputs": [
    {
     "output_type": "execute_result",
     "data": {
      "text/plain": [
       "0.7820253286214434"
      ]
     },
     "metadata": {},
     "execution_count": 52
    }
   ],
   "source": [
    "np.mean(cross_val_score(MLPClassifier(hidden_layer_sizes=[128, 32], verbose=True), ewm_X, ewm_y, scoring='accuracy', cv=StratifiedKFold(), n_jobs=-1))"
   ]
  },
  {
   "cell_type": "code",
   "execution_count": null,
   "metadata": {},
   "outputs": [],
   "source": []
  }
 ]
}