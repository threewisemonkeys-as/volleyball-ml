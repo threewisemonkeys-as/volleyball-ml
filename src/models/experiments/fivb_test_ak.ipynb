{
 "metadata": {
  "language_info": {
   "codemirror_mode": {
    "name": "ipython",
    "version": 3
   },
   "file_extension": ".py",
   "mimetype": "text/x-python",
   "name": "python",
   "nbconvert_exporter": "python",
   "pygments_lexer": "ipython3",
   "version": "3.8.0-final"
  },
  "orig_nbformat": 2,
  "kernelspec": {
   "name": "Python 3.8.0 64-bit",
   "display_name": "Python 3.8.0 64-bit",
   "metadata": {
    "interpreter": {
     "hash": "ae02afa2351240558c3c88ef7a38e527ac24b53a63a7b1f0e1914fb0debefdc8"
    }
   }
  }
 },
 "nbformat": 4,
 "nbformat_minor": 2,
 "cells": [
  {
   "cell_type": "code",
   "execution_count": 1,
   "metadata": {},
   "outputs": [],
   "source": [
    "import pandas as pd\n",
    "import seaborn as sns\n",
    "import sklearn\n",
    "import numpy as np\n",
    "from xgboost import XGBClassifier\n",
    "from sklearn.model_selection import train_test_split\n",
    "from sklearn.metrics import accuracy_score"
   ]
  },
  {
   "cell_type": "code",
   "execution_count": 2,
   "metadata": {},
   "outputs": [],
   "source": [
    "match_wise_df = pd.read_csv(\"../../../data/fivb/2019_women_world_cup_match-wise.csv\")\n",
    "player_wise_df = pd.read_csv(\"../../../data/fivb/2019_women_world_cup_player-wise.csv\")\n",
    "matches_df = pd.read_csv(\"../../../data/fivb/2019_women_world_cup_matches.csv\")"
   ]
  },
  {
   "cell_type": "code",
   "execution_count": 3,
   "metadata": {},
   "outputs": [
    {
     "output_type": "execute_result",
     "data": {
      "text/plain": [
       "    Match Num Team Opponent  Set 1 Duration  Set 1 Scored  Set 1 Against  \\\n",
       "0           1  USA      KEN              19            25             20   \n",
       "1           1  KEN      USA              19            14             25   \n",
       "2           2  CMR      RUS              21            14             25   \n",
       "3           2  RUS      CMR              21            25             15   \n",
       "4           3  ARG      NED              21            16             25   \n",
       "5           3  NED      ARG              21            25             17   \n",
       "6           4  CHN      KOR              25            25             15   \n",
       "7           4  KOR      CHN              25            21             25   \n",
       "8           5  SRB      BRA              28            20             23   \n",
       "9           5  BRA      SRB              28            25             25   \n",
       "10          6  DOM      JPN              30            21             25   \n",
       "11          6  JPN      DOM              30            25             11   \n",
       "12          7  KEN      NED              19            12             25   \n",
       "13          7  NED      KEN              19            25             19   \n",
       "14          8  CMR      CHN              22            18             25   \n",
       "15          8  CHN      CMR              22            25             14   \n",
       "16          9  USA      SRB              29            23             17   \n",
       "17          9  SRB      USA              29            25             25   \n",
       "18         10  KOR      DOM              24            17             24   \n",
       "19         10  DOM      KOR              24            25             26   \n",
       "\n",
       "    Set 2 Duration  Set 2 Scored  Set 1 Against.1  Set 3 Duration  \\\n",
       "0               24            25               20              20   \n",
       "1               24            20               25              20   \n",
       "2               26            15               25              21   \n",
       "3               26            25               15              21   \n",
       "4               26            17               25              23   \n",
       "5               26            25               17              23   \n",
       "6               23            25               15              22   \n",
       "7               23            15               25              22   \n",
       "8               29            25               23              26   \n",
       "9               29            23               25              26   \n",
       "10              25            11               25              37   \n",
       "11              25            25               11              37   \n",
       "12              23            19               25              21   \n",
       "13              23            25               19              21   \n",
       "14              25            14               25              29   \n",
       "15              25            25               14              29   \n",
       "16              23            25               17              23   \n",
       "17              23            17               25              23   \n",
       "18              33            26               24              31   \n",
       "19              33            24               26              31   \n",
       "\n",
       "    Set 3 Scored  Set 3 Against  Attack  Block  Serve  Opp. Errors  Total  \\\n",
       "0             25             14      47      6      7           15     75   \n",
       "1             14             25      29      4      2           13     48   \n",
       "2             10             25      20      6      1           12     39   \n",
       "3             25             10      39      9      8           19     75   \n",
       "4             19             25      35      2      2           13     52   \n",
       "5             25             19      47      8      4           16     75   \n",
       "6             25             14      46     12      6           11     75   \n",
       "7             14             25      37      4      2            7     50   \n",
       "8             18             25      58     13      5           24    100   \n",
       "9             25             18      64     18      3           25    110   \n",
       "10            26             24      53      5      0           14     72   \n",
       "11            24             26      74      6      3           16     99   \n",
       "12            17             25      27      5      3           13     48   \n",
       "13            25             17      38      7      5           25     75   \n",
       "14            19             25      37      4      4            6     51   \n",
       "15            25             19      44      7      7           17     75   \n",
       "16            25             16      59     15      3           21     98   \n",
       "17            16             25      51      5      4           13     73   \n",
       "18            23             25      62      7      5           15     89   \n",
       "19            25             23      70      6      2           21     99   \n",
       "\n",
       "    Dig  Reception  Set  \n",
       "0    40         17   31  \n",
       "1    19         11   13  \n",
       "2    22          6   15  \n",
       "3    40          5   14  \n",
       "4    42         16    6  \n",
       "5    43         15   14  \n",
       "6    53         22   24  \n",
       "7    45         14   14  \n",
       "8    81         17   25  \n",
       "9    78         19   51  \n",
       "10   74         21   23  \n",
       "11  107         22   45  \n",
       "12   28         10   12  \n",
       "13   35         11   21  \n",
       "14   29          5   21  \n",
       "15   44          3   25  \n",
       "16   46         29   33  \n",
       "17   34         30    5  \n",
       "18   85         20   51  \n",
       "19   84         17   35  "
      ],
      "text/html": "<div>\n<style scoped>\n    .dataframe tbody tr th:only-of-type {\n        vertical-align: middle;\n    }\n\n    .dataframe tbody tr th {\n        vertical-align: top;\n    }\n\n    .dataframe thead th {\n        text-align: right;\n    }\n</style>\n<table border=\"1\" class=\"dataframe\">\n  <thead>\n    <tr style=\"text-align: right;\">\n      <th></th>\n      <th>Match Num</th>\n      <th>Team</th>\n      <th>Opponent</th>\n      <th>Set 1 Duration</th>\n      <th>Set 1 Scored</th>\n      <th>Set 1 Against</th>\n      <th>Set 2 Duration</th>\n      <th>Set 2 Scored</th>\n      <th>Set 1 Against.1</th>\n      <th>Set 3 Duration</th>\n      <th>Set 3 Scored</th>\n      <th>Set 3 Against</th>\n      <th>Attack</th>\n      <th>Block</th>\n      <th>Serve</th>\n      <th>Opp. Errors</th>\n      <th>Total</th>\n      <th>Dig</th>\n      <th>Reception</th>\n      <th>Set</th>\n    </tr>\n  </thead>\n  <tbody>\n    <tr>\n      <th>0</th>\n      <td>1</td>\n      <td>USA</td>\n      <td>KEN</td>\n      <td>19</td>\n      <td>25</td>\n      <td>20</td>\n      <td>24</td>\n      <td>25</td>\n      <td>20</td>\n      <td>20</td>\n      <td>25</td>\n      <td>14</td>\n      <td>47</td>\n      <td>6</td>\n      <td>7</td>\n      <td>15</td>\n      <td>75</td>\n      <td>40</td>\n      <td>17</td>\n      <td>31</td>\n    </tr>\n    <tr>\n      <th>1</th>\n      <td>1</td>\n      <td>KEN</td>\n      <td>USA</td>\n      <td>19</td>\n      <td>14</td>\n      <td>25</td>\n      <td>24</td>\n      <td>20</td>\n      <td>25</td>\n      <td>20</td>\n      <td>14</td>\n      <td>25</td>\n      <td>29</td>\n      <td>4</td>\n      <td>2</td>\n      <td>13</td>\n      <td>48</td>\n      <td>19</td>\n      <td>11</td>\n      <td>13</td>\n    </tr>\n    <tr>\n      <th>2</th>\n      <td>2</td>\n      <td>CMR</td>\n      <td>RUS</td>\n      <td>21</td>\n      <td>14</td>\n      <td>25</td>\n      <td>26</td>\n      <td>15</td>\n      <td>25</td>\n      <td>21</td>\n      <td>10</td>\n      <td>25</td>\n      <td>20</td>\n      <td>6</td>\n      <td>1</td>\n      <td>12</td>\n      <td>39</td>\n      <td>22</td>\n      <td>6</td>\n      <td>15</td>\n    </tr>\n    <tr>\n      <th>3</th>\n      <td>2</td>\n      <td>RUS</td>\n      <td>CMR</td>\n      <td>21</td>\n      <td>25</td>\n      <td>15</td>\n      <td>26</td>\n      <td>25</td>\n      <td>15</td>\n      <td>21</td>\n      <td>25</td>\n      <td>10</td>\n      <td>39</td>\n      <td>9</td>\n      <td>8</td>\n      <td>19</td>\n      <td>75</td>\n      <td>40</td>\n      <td>5</td>\n      <td>14</td>\n    </tr>\n    <tr>\n      <th>4</th>\n      <td>3</td>\n      <td>ARG</td>\n      <td>NED</td>\n      <td>21</td>\n      <td>16</td>\n      <td>25</td>\n      <td>26</td>\n      <td>17</td>\n      <td>25</td>\n      <td>23</td>\n      <td>19</td>\n      <td>25</td>\n      <td>35</td>\n      <td>2</td>\n      <td>2</td>\n      <td>13</td>\n      <td>52</td>\n      <td>42</td>\n      <td>16</td>\n      <td>6</td>\n    </tr>\n    <tr>\n      <th>5</th>\n      <td>3</td>\n      <td>NED</td>\n      <td>ARG</td>\n      <td>21</td>\n      <td>25</td>\n      <td>17</td>\n      <td>26</td>\n      <td>25</td>\n      <td>17</td>\n      <td>23</td>\n      <td>25</td>\n      <td>19</td>\n      <td>47</td>\n      <td>8</td>\n      <td>4</td>\n      <td>16</td>\n      <td>75</td>\n      <td>43</td>\n      <td>15</td>\n      <td>14</td>\n    </tr>\n    <tr>\n      <th>6</th>\n      <td>4</td>\n      <td>CHN</td>\n      <td>KOR</td>\n      <td>25</td>\n      <td>25</td>\n      <td>15</td>\n      <td>23</td>\n      <td>25</td>\n      <td>15</td>\n      <td>22</td>\n      <td>25</td>\n      <td>14</td>\n      <td>46</td>\n      <td>12</td>\n      <td>6</td>\n      <td>11</td>\n      <td>75</td>\n      <td>53</td>\n      <td>22</td>\n      <td>24</td>\n    </tr>\n    <tr>\n      <th>7</th>\n      <td>4</td>\n      <td>KOR</td>\n      <td>CHN</td>\n      <td>25</td>\n      <td>21</td>\n      <td>25</td>\n      <td>23</td>\n      <td>15</td>\n      <td>25</td>\n      <td>22</td>\n      <td>14</td>\n      <td>25</td>\n      <td>37</td>\n      <td>4</td>\n      <td>2</td>\n      <td>7</td>\n      <td>50</td>\n      <td>45</td>\n      <td>14</td>\n      <td>14</td>\n    </tr>\n    <tr>\n      <th>8</th>\n      <td>5</td>\n      <td>SRB</td>\n      <td>BRA</td>\n      <td>28</td>\n      <td>20</td>\n      <td>23</td>\n      <td>29</td>\n      <td>25</td>\n      <td>23</td>\n      <td>26</td>\n      <td>18</td>\n      <td>25</td>\n      <td>58</td>\n      <td>13</td>\n      <td>5</td>\n      <td>24</td>\n      <td>100</td>\n      <td>81</td>\n      <td>17</td>\n      <td>25</td>\n    </tr>\n    <tr>\n      <th>9</th>\n      <td>5</td>\n      <td>BRA</td>\n      <td>SRB</td>\n      <td>28</td>\n      <td>25</td>\n      <td>25</td>\n      <td>29</td>\n      <td>23</td>\n      <td>25</td>\n      <td>26</td>\n      <td>25</td>\n      <td>18</td>\n      <td>64</td>\n      <td>18</td>\n      <td>3</td>\n      <td>25</td>\n      <td>110</td>\n      <td>78</td>\n      <td>19</td>\n      <td>51</td>\n    </tr>\n    <tr>\n      <th>10</th>\n      <td>6</td>\n      <td>DOM</td>\n      <td>JPN</td>\n      <td>30</td>\n      <td>21</td>\n      <td>25</td>\n      <td>25</td>\n      <td>11</td>\n      <td>25</td>\n      <td>37</td>\n      <td>26</td>\n      <td>24</td>\n      <td>53</td>\n      <td>5</td>\n      <td>0</td>\n      <td>14</td>\n      <td>72</td>\n      <td>74</td>\n      <td>21</td>\n      <td>23</td>\n    </tr>\n    <tr>\n      <th>11</th>\n      <td>6</td>\n      <td>JPN</td>\n      <td>DOM</td>\n      <td>30</td>\n      <td>25</td>\n      <td>11</td>\n      <td>25</td>\n      <td>25</td>\n      <td>11</td>\n      <td>37</td>\n      <td>24</td>\n      <td>26</td>\n      <td>74</td>\n      <td>6</td>\n      <td>3</td>\n      <td>16</td>\n      <td>99</td>\n      <td>107</td>\n      <td>22</td>\n      <td>45</td>\n    </tr>\n    <tr>\n      <th>12</th>\n      <td>7</td>\n      <td>KEN</td>\n      <td>NED</td>\n      <td>19</td>\n      <td>12</td>\n      <td>25</td>\n      <td>23</td>\n      <td>19</td>\n      <td>25</td>\n      <td>21</td>\n      <td>17</td>\n      <td>25</td>\n      <td>27</td>\n      <td>5</td>\n      <td>3</td>\n      <td>13</td>\n      <td>48</td>\n      <td>28</td>\n      <td>10</td>\n      <td>12</td>\n    </tr>\n    <tr>\n      <th>13</th>\n      <td>7</td>\n      <td>NED</td>\n      <td>KEN</td>\n      <td>19</td>\n      <td>25</td>\n      <td>19</td>\n      <td>23</td>\n      <td>25</td>\n      <td>19</td>\n      <td>21</td>\n      <td>25</td>\n      <td>17</td>\n      <td>38</td>\n      <td>7</td>\n      <td>5</td>\n      <td>25</td>\n      <td>75</td>\n      <td>35</td>\n      <td>11</td>\n      <td>21</td>\n    </tr>\n    <tr>\n      <th>14</th>\n      <td>8</td>\n      <td>CMR</td>\n      <td>CHN</td>\n      <td>22</td>\n      <td>18</td>\n      <td>25</td>\n      <td>25</td>\n      <td>14</td>\n      <td>25</td>\n      <td>29</td>\n      <td>19</td>\n      <td>25</td>\n      <td>37</td>\n      <td>4</td>\n      <td>4</td>\n      <td>6</td>\n      <td>51</td>\n      <td>29</td>\n      <td>5</td>\n      <td>21</td>\n    </tr>\n    <tr>\n      <th>15</th>\n      <td>8</td>\n      <td>CHN</td>\n      <td>CMR</td>\n      <td>22</td>\n      <td>25</td>\n      <td>14</td>\n      <td>25</td>\n      <td>25</td>\n      <td>14</td>\n      <td>29</td>\n      <td>25</td>\n      <td>19</td>\n      <td>44</td>\n      <td>7</td>\n      <td>7</td>\n      <td>17</td>\n      <td>75</td>\n      <td>44</td>\n      <td>3</td>\n      <td>25</td>\n    </tr>\n    <tr>\n      <th>16</th>\n      <td>9</td>\n      <td>USA</td>\n      <td>SRB</td>\n      <td>29</td>\n      <td>23</td>\n      <td>17</td>\n      <td>23</td>\n      <td>25</td>\n      <td>17</td>\n      <td>23</td>\n      <td>25</td>\n      <td>16</td>\n      <td>59</td>\n      <td>15</td>\n      <td>3</td>\n      <td>21</td>\n      <td>98</td>\n      <td>46</td>\n      <td>29</td>\n      <td>33</td>\n    </tr>\n    <tr>\n      <th>17</th>\n      <td>9</td>\n      <td>SRB</td>\n      <td>USA</td>\n      <td>29</td>\n      <td>25</td>\n      <td>25</td>\n      <td>23</td>\n      <td>17</td>\n      <td>25</td>\n      <td>23</td>\n      <td>16</td>\n      <td>25</td>\n      <td>51</td>\n      <td>5</td>\n      <td>4</td>\n      <td>13</td>\n      <td>73</td>\n      <td>34</td>\n      <td>30</td>\n      <td>5</td>\n    </tr>\n    <tr>\n      <th>18</th>\n      <td>10</td>\n      <td>KOR</td>\n      <td>DOM</td>\n      <td>24</td>\n      <td>17</td>\n      <td>24</td>\n      <td>33</td>\n      <td>26</td>\n      <td>24</td>\n      <td>31</td>\n      <td>23</td>\n      <td>25</td>\n      <td>62</td>\n      <td>7</td>\n      <td>5</td>\n      <td>15</td>\n      <td>89</td>\n      <td>85</td>\n      <td>20</td>\n      <td>51</td>\n    </tr>\n    <tr>\n      <th>19</th>\n      <td>10</td>\n      <td>DOM</td>\n      <td>KOR</td>\n      <td>24</td>\n      <td>25</td>\n      <td>26</td>\n      <td>33</td>\n      <td>24</td>\n      <td>26</td>\n      <td>31</td>\n      <td>25</td>\n      <td>23</td>\n      <td>70</td>\n      <td>6</td>\n      <td>2</td>\n      <td>21</td>\n      <td>99</td>\n      <td>84</td>\n      <td>17</td>\n      <td>35</td>\n    </tr>\n  </tbody>\n</table>\n</div>"
     },
     "metadata": {},
     "execution_count": 3
    }
   ],
   "source": [
    "match_wise_df.head(20)"
   ]
  },
  {
   "cell_type": "code",
   "execution_count": 4,
   "metadata": {},
   "outputs": [
    {
     "output_type": "execute_result",
     "data": {
      "text/plain": [
       "        Attack     Block     Serve  Opp. Errors      Total        Dig  \\\n",
       "0     0.000000  0.000000  0.000000     0.000000   0.000000   0.000000   \n",
       "1     0.000000  0.000000  0.000000     0.000000   0.000000   0.000000   \n",
       "2     0.000000  0.000000  0.000000     0.000000   0.000000   0.000000   \n",
       "3     0.000000  0.000000  0.000000     0.000000   0.000000   0.000000   \n",
       "4     0.000000  0.000000  0.000000     0.000000   0.000000   0.000000   \n",
       "..         ...       ...       ...          ...        ...        ...   \n",
       "127  42.000000  5.000000  3.454545    12.545455  63.000000  50.090909   \n",
       "128  32.272727  4.909091  3.181818    12.818182  53.181818  36.363636   \n",
       "129  28.454545  3.818182  2.545455    10.636364  45.454545  29.909091   \n",
       "130  50.636364  4.545455  3.818182    15.272727  74.272727  64.000000   \n",
       "131  48.454545  6.636364  3.636364    14.000000  72.727273  44.818182   \n",
       "\n",
       "     Reception        Set  \n",
       "0     0.000000   0.000000  \n",
       "1     0.000000   0.000000  \n",
       "2     0.000000   0.000000  \n",
       "3     0.000000   0.000000  \n",
       "4     0.000000   0.000000  \n",
       "..         ...        ...  \n",
       "127  14.454545  22.636364  \n",
       "128  10.909091  19.000000  \n",
       "129   9.727273  18.818182  \n",
       "130  20.727273  31.545455  \n",
       "131  13.454545  22.181818  \n",
       "\n",
       "[132 rows x 8 columns]"
      ],
      "text/html": "<div>\n<style scoped>\n    .dataframe tbody tr th:only-of-type {\n        vertical-align: middle;\n    }\n\n    .dataframe tbody tr th {\n        vertical-align: top;\n    }\n\n    .dataframe thead th {\n        text-align: right;\n    }\n</style>\n<table border=\"1\" class=\"dataframe\">\n  <thead>\n    <tr style=\"text-align: right;\">\n      <th></th>\n      <th>Attack</th>\n      <th>Block</th>\n      <th>Serve</th>\n      <th>Opp. Errors</th>\n      <th>Total</th>\n      <th>Dig</th>\n      <th>Reception</th>\n      <th>Set</th>\n    </tr>\n  </thead>\n  <tbody>\n    <tr>\n      <th>0</th>\n      <td>0.000000</td>\n      <td>0.000000</td>\n      <td>0.000000</td>\n      <td>0.000000</td>\n      <td>0.000000</td>\n      <td>0.000000</td>\n      <td>0.000000</td>\n      <td>0.000000</td>\n    </tr>\n    <tr>\n      <th>1</th>\n      <td>0.000000</td>\n      <td>0.000000</td>\n      <td>0.000000</td>\n      <td>0.000000</td>\n      <td>0.000000</td>\n      <td>0.000000</td>\n      <td>0.000000</td>\n      <td>0.000000</td>\n    </tr>\n    <tr>\n      <th>2</th>\n      <td>0.000000</td>\n      <td>0.000000</td>\n      <td>0.000000</td>\n      <td>0.000000</td>\n      <td>0.000000</td>\n      <td>0.000000</td>\n      <td>0.000000</td>\n      <td>0.000000</td>\n    </tr>\n    <tr>\n      <th>3</th>\n      <td>0.000000</td>\n      <td>0.000000</td>\n      <td>0.000000</td>\n      <td>0.000000</td>\n      <td>0.000000</td>\n      <td>0.000000</td>\n      <td>0.000000</td>\n      <td>0.000000</td>\n    </tr>\n    <tr>\n      <th>4</th>\n      <td>0.000000</td>\n      <td>0.000000</td>\n      <td>0.000000</td>\n      <td>0.000000</td>\n      <td>0.000000</td>\n      <td>0.000000</td>\n      <td>0.000000</td>\n      <td>0.000000</td>\n    </tr>\n    <tr>\n      <th>...</th>\n      <td>...</td>\n      <td>...</td>\n      <td>...</td>\n      <td>...</td>\n      <td>...</td>\n      <td>...</td>\n      <td>...</td>\n      <td>...</td>\n    </tr>\n    <tr>\n      <th>127</th>\n      <td>42.000000</td>\n      <td>5.000000</td>\n      <td>3.454545</td>\n      <td>12.545455</td>\n      <td>63.000000</td>\n      <td>50.090909</td>\n      <td>14.454545</td>\n      <td>22.636364</td>\n    </tr>\n    <tr>\n      <th>128</th>\n      <td>32.272727</td>\n      <td>4.909091</td>\n      <td>3.181818</td>\n      <td>12.818182</td>\n      <td>53.181818</td>\n      <td>36.363636</td>\n      <td>10.909091</td>\n      <td>19.000000</td>\n    </tr>\n    <tr>\n      <th>129</th>\n      <td>28.454545</td>\n      <td>3.818182</td>\n      <td>2.545455</td>\n      <td>10.636364</td>\n      <td>45.454545</td>\n      <td>29.909091</td>\n      <td>9.727273</td>\n      <td>18.818182</td>\n    </tr>\n    <tr>\n      <th>130</th>\n      <td>50.636364</td>\n      <td>4.545455</td>\n      <td>3.818182</td>\n      <td>15.272727</td>\n      <td>74.272727</td>\n      <td>64.000000</td>\n      <td>20.727273</td>\n      <td>31.545455</td>\n    </tr>\n    <tr>\n      <th>131</th>\n      <td>48.454545</td>\n      <td>6.636364</td>\n      <td>3.636364</td>\n      <td>14.000000</td>\n      <td>72.727273</td>\n      <td>44.818182</td>\n      <td>13.454545</td>\n      <td>22.181818</td>\n    </tr>\n  </tbody>\n</table>\n<p>132 rows × 8 columns</p>\n</div>"
     },
     "metadata": {},
     "execution_count": 4
    }
   ],
   "source": [
    "df = match_wise_df\n",
    "features = [\"Attack\", \"Block\", \"Serve\", \"Opp. Errors\", \"Total\", \"Dig\", \"Reception\", \"Set\"]\n",
    "raw_df = df[features]\n",
    "cum_df = pd.DataFrame(np.zeros(raw_df.shape), columns=features)\n",
    "for i in range(len(cum_df)):\n",
    "    team = df.loc[i][\"Team\"]\n",
    "    count = 1\n",
    "    for j in range(i-1, -1, -1):\n",
    "        if df.loc[j][\"Team\"] == team:\n",
    "            cum_df.loc[i] += raw_df.loc[j]\n",
    "            count += 1\n",
    "    cum_df.loc[i] /= count\n",
    "cum_df\n"
   ]
  },
  {
   "cell_type": "code",
   "execution_count": 9,
   "metadata": {},
   "outputs": [
    {
     "output_type": "stream",
     "name": "stdout",
     "text": [
      "(66, 16) (66,)\n"
     ]
    }
   ],
   "source": [
    "features = np.zeros((len(match_wise_df) // 2, 2*8))\n",
    "for i in range(len(match_wise_df) // 2):\n",
    "    features[i][:8] = cum_df.loc[2*i]\n",
    "    features[i][8:] = cum_df.loc[2*i + 1]\n",
    "\n",
    "labels = matches_df[\"Winner\"].to_numpy()\n",
    "\n",
    "print(features.shape, labels.shape)"
   ]
  },
  {
   "cell_type": "code",
   "execution_count": 10,
   "metadata": {},
   "outputs": [],
   "source": [
    "X_train, X_test, y_train, y_test = train_test_split(features, labels, test_size=0.3, random_state=0, stratify=labels)\n"
   ]
  },
  {
   "cell_type": "code",
   "execution_count": 30,
   "metadata": {},
   "outputs": [],
   "source": [
    "from sklearn.tree import DecisionTreeClassifier\n",
    "from sklearn.ensemble import RandomForestClassifier\n",
    "from sklearn.linear_model import LogisticRegression\n"
   ]
  },
  {
   "cell_type": "code",
   "execution_count": 31,
   "metadata": {},
   "outputs": [],
   "source": [
    "# model =  DecisionTreeClassifier()\n",
    "# model = RandomForestClassifier(n_estimators=150)\n",
    "model = LogisticRegression(random_state = 0,class_weight='balanced') "
   ]
  },
  {
   "cell_type": "code",
   "execution_count": 32,
   "metadata": {},
   "outputs": [
    {
     "output_type": "stream",
     "name": "stdout",
     "text": [
      "Accuracy: 85.00%\n"
     ]
    }
   ],
   "source": [
    "\n",
    "model.fit(X_train, y_train)\n",
    "y_pred = model.predict(X_test)\n",
    "predictions = [round(value) for value in y_pred]\n",
    "accuracy = accuracy_score(y_test, predictions)\n",
    "print(\"Accuracy: %.2f%%\" % (accuracy * 100.0))"
   ]
  },
  {
   "source": [
    "# Results\n",
    "\n",
    "Decision Tree: 50%\n",
    "\n",
    "Random forest: 75%\n",
    "\n",
    "Logistic Regression: 85%\n"
   ],
   "cell_type": "markdown",
   "metadata": {}
  },
  {
   "cell_type": "code",
   "execution_count": null,
   "metadata": {},
   "outputs": [],
   "source": []
  }
 ]
}