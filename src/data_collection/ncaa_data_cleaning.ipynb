{
 "metadata": {
  "language_info": {
   "codemirror_mode": {
    "name": "ipython",
    "version": 3
   },
   "file_extension": ".py",
   "mimetype": "text/x-python",
   "name": "python",
   "nbconvert_exporter": "python",
   "pygments_lexer": "ipython3",
   "version": "3.8.5-final"
  },
  "orig_nbformat": 2,
  "kernelspec": {
   "name": "python3",
   "display_name": "Python 3"
  }
 },
 "nbformat": 4,
 "nbformat_minor": 2,
 "cells": [
  {
   "source": [
    "# Clean and organising the raw data scraped from https://stats.ncaa.org/\n",
    "\n",
    "Author: Atharv Sonwane"
   ],
   "cell_type": "markdown",
   "metadata": {}
  },
  {
   "cell_type": "code",
   "execution_count": 1,
   "metadata": {},
   "outputs": [],
   "source": [
    "import pandas as pd\n",
    "import os\n",
    "import sys\n",
    "from pathlib import Path\n",
    "import requests\n",
    "from tqdm import tnrange"
   ]
  },
  {
   "source": [
    "# Clean Data"
   ],
   "cell_type": "markdown",
   "metadata": {}
  },
  {
   "cell_type": "code",
   "execution_count": 28,
   "metadata": {
    "tags": []
   },
   "outputs": [
    {
     "output_type": "display_data",
     "data": {
      "text/plain": "HBox(children=(HTML(value='Cleaning data'), FloatProgress(value=0.0, max=332.0), HTML(value='')))",
      "application/vnd.jupyter.widget-view+json": {
       "version_major": 2,
       "version_minor": 0,
       "model_id": "00f8e913b62b43289da545cca0044834"
      }
     },
     "metadata": {}
    },
    {
     "output_type": "stream",
     "name": "stdout",
     "text": [
      "\n"
     ]
    }
   ],
   "source": [
    "year = 2019\n",
    "for root, dirs, files in os.walk(f'../../data/ncaa/raw/{year}/team_game_by_game/'):\n",
    "    for i in tnrange(len(files), desc='Cleaning data'):\n",
    "        f = files[i]\n",
    "        df = pd.read_csv(Path(root).joinpath(f), header=1)\n",
    "        if year >= 2018:\n",
    "            df.drop(columns=[\"MP\", \"Attend\", \"BHE\", \"Unnamed: 20\"], inplace=True)\n",
    "        else:\n",
    "            df.drop(labels=[\"MP\", \"BHE\", \"Unnamed: 19\"], axis=1, inplace=True)\n",
    "        df.replace({'/':''}, regex=True, inplace=True)\n",
    "        df.fillna(0, inplace=True)\n",
    "        df[[\"Kills\", \"Errors\", \"Total Attacks\", \"Assists\", \"Aces\", \"SErr\", \"Digs\", \"RErr\", \"Block Solos\", \"Block Assists\", \"BErr\"]] = df[[\"Kills\", \"Errors\", \"Total Attacks\", \"Assists\", \"Aces\", \"SErr\", \"Digs\", \"RErr\", \"Block Solos\", \"Block Assists\", \"BErr\"]].astype(int)\n",
    "        outpath = Path(root).parent.parent.parent.joinpath(f\"processed/{year}/game_by_game_cleaned/\")\n",
    "        outpath.mkdir(parents=True, exist_ok=True)\n",
    "        f = f[:f.find('(') - 1] + \".csv\"\n",
    "        df.to_csv(outpath.joinpath(f), index=False)"
   ]
  },
  {
   "source": [
    "# Computing Moving Averages"
   ],
   "cell_type": "markdown",
   "metadata": {}
  },
  {
   "source": [
    "## Simple Moving Average"
   ],
   "cell_type": "markdown",
   "metadata": {}
  },
  {
   "cell_type": "code",
   "execution_count": 3,
   "metadata": {},
   "outputs": [],
   "source": [
    "window = 10\n",
    "year = 2019\n",
    "\n",
    "for root, dirs, files in os.walk(f'../../data/ncaa/processed/{year}/game_by_game_cleaned'):\n",
    "    new_root = Path(root).parent.joinpath(f\"game_by_game_{window}_sma\")\n",
    "    new_root.mkdir(parents=True, exist_ok=True)\n",
    "    for f in files:\n",
    "        df = pd.read_csv(Path(root).joinpath(f))\n",
    "        features = [\"Kills\", \"Errors\", \"Total Attacks\", \"Hit Pct\", \"Assists\", \"Aces\", \"SErr\", \"Digs\", \"RErr\", \"Block Solos\", \"Block Assists\", \"BErr\", \"PTS\"]\n",
    "        df[features] = df[features].rolling(window, min_periods=1).mean()\n",
    "        df.to_csv(new_root.joinpath(f), index=False)"
   ]
  },
  {
   "source": [
    "## Cumulative Moving Average"
   ],
   "cell_type": "markdown",
   "metadata": {}
  },
  {
   "cell_type": "code",
   "execution_count": 4,
   "metadata": {},
   "outputs": [],
   "source": [
    "year = 2019\n",
    "\n",
    "for root, dirs, files in os.walk(f'../../data/ncaa/processed/{year}/game_by_game_cleaned'):\n",
    "    new_root = Path(root).parent.joinpath(\"game_by_game_cma\")\n",
    "    new_root.mkdir(parents=True, exist_ok=True)\n",
    "    for f in files:\n",
    "        df = pd.read_csv(Path(root).joinpath(f))\n",
    "        features = [\"Kills\", \"Errors\", \"Total Attacks\", \"Hit Pct\", \"Assists\", \"Aces\", \"SErr\", \"Digs\", \"RErr\", \"Block Solos\", \"Block Assists\", \"BErr\", \"PTS\"]\n",
    "        df[features] = df[features].expanding().mean()\n",
    "        df.to_csv(new_root.joinpath(f), index=False)"
   ]
  },
  {
   "source": [
    "## Exponential Moving Average"
   ],
   "cell_type": "markdown",
   "metadata": {}
  },
  {
   "cell_type": "code",
   "execution_count": 5,
   "metadata": {},
   "outputs": [],
   "source": [
    "year = 2019\n",
    "alpha = 0.2\n",
    "\n",
    "for root, dirs, files in os.walk(f'../../data/ncaa/processed/{year}/game_by_game_cleaned'):\n",
    "    new_root = Path(root).parent.joinpath(f\"game_by_game_{alpha}_ewm\")\n",
    "    new_root.mkdir(parents=True, exist_ok=True)\n",
    "    for f in files:\n",
    "        df = pd.read_csv(Path(root).joinpath(f))\n",
    "        features = [\"Kills\", \"Errors\", \"Total Attacks\", \"Hit Pct\", \"Assists\", \"Aces\", \"SErr\", \"Digs\", \"RErr\", \"Block Solos\", \"Block Assists\", \"BErr\", \"PTS\"]\n",
    "        df[features] = df[features].ewm(alpha=alpha).mean()\n",
    "        df.to_csv(new_root.joinpath(f), index=False)"
   ]
  },
  {
   "source": [
    "# Combine into single dataframe of matches"
   ],
   "cell_type": "markdown",
   "metadata": {}
  },
  {
   "source": [
    "## Utility Function"
   ],
   "cell_type": "markdown",
   "metadata": {}
  },
  {
   "cell_type": "code",
   "execution_count": 6,
   "metadata": {},
   "outputs": [],
   "source": [
    "def clean_name(name):\n",
    "    if '@' in name:\n",
    "        if name.index('@') == 0:\n",
    "            return name[2:]\n",
    "        else:\n",
    "            return name[:name.index('@')-1]\n",
    "    else:\n",
    "        return name\n",
    "\n",
    "features = [\"Kills\", \"Errors\", \"Total Attacks\", \"Hit Pct\", \"Assists\", \"Aces\", \"SErr\", \"Digs\", \"RErr\", \"Block Solos\", \"Block Assists\", \"BErr\", \"PTS\"]\n",
    "combined_features = [\"Date\", \"TeamA\", \"TeamB\", \"Result\", \"S\", \"Team A Kills\", \"Team A Errors\", \"Team A Total Attacks\", \"Team A Hit Pct\", \"Team A Assists\", \"Team A Aces\", \"Team A SErr\", \"Team A Digs\", \"Team A RErr\", \"Team A Block Solos\", \"Team A Block Assists\", \"Team A BErr\", \"Team A PTS\", \"Team B Kills\", \"Team B Errors\", \"Team B Total Attacks\", \"Team B Hit Pct\", \"Team B Assists\", \"Team B Aces\", \"Team B SErr\", \"Team B Digs\", \"Team B RErr\", \"Team B Block Solos\", \"Team B Block Assists\", \"Team B BErr\", \"Team B PTS\"]\n",
    "\n",
    "\n",
    "def combine(input_path, output_path):\n",
    "    dfs = []\n",
    "    team_names = []\n",
    "    for root, dirs, files in os.walk(input_path):\n",
    "        for f in files:\n",
    "            team_names.append(f[:-4])\n",
    "            dfs.append(pd.read_csv(Path(root).joinpath(f)))\n",
    "\n",
    "    data = []\n",
    "\n",
    "    err_a = 0\n",
    "    err_b = 0\n",
    "\n",
    "    for i, name in enumerate(team_names):\n",
    "        df = dfs[i]\n",
    "        for j, TeamA_row in df.iterrows(): \n",
    "            date = TeamA_row[\"Date\"]\n",
    "            TeamA = name\n",
    "            TeamB = clean_name(TeamA_row[\"Opponent\"])\n",
    "            Result = 1 if TeamA_row[\"Result\"][0] == 'W' else 0\n",
    "            S = TeamA_row[\"S\"]\n",
    "            TeamA_stats = TeamA_row[features]\n",
    "            try:\n",
    "                TeamB_df = dfs[team_names.index(TeamB)]\n",
    "            except:\n",
    "                err_a += 1\n",
    "                continue\n",
    "            try:\n",
    "                TeamB_row = TeamB_df[TeamB_df[\"Date\"] == date][TeamB_df[\"Opponent\"].str.contains(TeamA)].reset_index().loc[0]\n",
    "            except:\n",
    "                err_b += 1\n",
    "                continue\n",
    "\n",
    "            TeamB_stats = TeamB_row[features]\n",
    "            data.append([date, TeamA, TeamB, Result, S, *TeamA_stats, *TeamB_stats])\n",
    "        \n",
    "    combined_df = pd.DataFrame(data, columns=combined_features)\n",
    "    combined_df.to_csv(output_path, index=False)\n",
    "    return combined_df, dict(err_a=err_a, err_b=err_b)\n",
    "\n",
    "def prev_combine(input_path, output_path):\n",
    "    dfs = []\n",
    "    team_names = []\n",
    "    for root, dirs, files in os.walk(input_path):\n",
    "        for f in files:\n",
    "            team_names.append(f[:-4])\n",
    "            dfs.append(pd.read_csv(Path(root).joinpath(f)))\n",
    "\n",
    "    data = []\n",
    "\n",
    "    err_a = 0\n",
    "    err_b = 0\n",
    "\n",
    "    for i, name in enumerate(team_names):\n",
    "        df = dfs[i]\n",
    "        for j in range(len(df)):\n",
    "            if j == 0:\n",
    "                continue\n",
    "            TeamA_row = df.loc[j-1]\n",
    "            date = TeamA_row[\"Date\"]\n",
    "            TeamA = name\n",
    "            TeamB = clean_name(TeamA_row[\"Opponent\"])\n",
    "            Result = 1 if TeamA_row[\"Result\"][0] == 'W' else 0\n",
    "            S = TeamA_row[\"S\"]\n",
    "            TeamA_stats = TeamA_row[features]\n",
    "            try:\n",
    "                TeamB_df = dfs[team_names.index(TeamB)]\n",
    "            except:\n",
    "                err_a += 1\n",
    "                continue\n",
    "            try:\n",
    "                TeamB_row_index = TeamB_df[TeamB_df[\"Date\"] == date][TeamB_df[\"Opponent\"].str.contains(TeamA)].index[0]\n",
    "                if TeamB_row_index == 0:\n",
    "                    continue\n",
    "                TeamB_row = TeamB_df.loc[TeamB_row_index-1]\n",
    "            except:\n",
    "                err_b += 1\n",
    "                continue\n",
    "\n",
    "            TeamB_stats = TeamB_row[features]\n",
    "            data.append([date, TeamA, TeamB, Result, S, *TeamA_stats, *TeamB_stats])\n",
    "        \n",
    "    combined_df = pd.DataFrame(data, columns=combined_features)\n",
    "    combined_df.to_csv(output_path, index=False)\n",
    "    return combined_df, dict(err_a=err_a, err_b=err_b)\n",
    "\n"
   ]
  },
  {
   "source": [
    "## Combine dataframe of math by match result without any averages"
   ],
   "cell_type": "markdown",
   "metadata": {}
  },
  {
   "cell_type": "code",
   "execution_count": 7,
   "metadata": {},
   "outputs": [
    {
     "output_type": "stream",
     "name": "stdout",
     "text": [
      "{'err_a': 368, 'err_b': 59} 9533\n"
     ]
    }
   ],
   "source": [
    "year = 2019\n",
    "input_path = f'../../data/ncaa/processed/{year}/game_by_game_cleaned'\n",
    "output_path = f'../../data/ncaa/processed/{year}/accumulated/matches_gathered.csv'\n",
    "\n",
    "matches_gathered_df, info = combine(input_path, output_path)\n",
    "print(info, len(matches_gathered_df))"
   ]
  },
  {
   "source": [
    "## Combine dataframe for Simple Moving Average"
   ],
   "cell_type": "markdown",
   "metadata": {}
  },
  {
   "cell_type": "code",
   "execution_count": 8,
   "metadata": {
    "tags": []
   },
   "outputs": [
    {
     "output_type": "stream",
     "name": "stdout",
     "text": [
      "{'err_a': 361, 'err_b': 57} 8887\n"
     ]
    }
   ],
   "source": [
    "year = 2019\n",
    "window = 10\n",
    "input_path = f'../../data/ncaa/processed/{year}/game_by_game_{window}_sma'\n",
    "output_path = f'../../data/ncaa/processed/{year}/accumulated/{window}_sma.csv'\n",
    "\n",
    "sma_df, info = prev_combine(input_path, output_path)\n",
    "print(info, len(sma_df))"
   ]
  },
  {
   "source": [
    "## Combine dataframe for Cumulative Moving Average"
   ],
   "cell_type": "markdown",
   "metadata": {}
  },
  {
   "cell_type": "code",
   "execution_count": 9,
   "metadata": {},
   "outputs": [
    {
     "output_type": "stream",
     "name": "stdout",
     "text": [
      "{'err_a': 361, 'err_b': 57} 8887\n"
     ]
    }
   ],
   "source": [
    "year = 2019\n",
    "input_path = f'../../data/ncaa/processed/{year}/game_by_game_cma'\n",
    "output_path = f'../../data/ncaa/processed/{year}/accumulated/cma.csv'\n",
    "\n",
    "cma_df, info = prev_combine(input_path, output_path)\n",
    "print(info, len(cma_df))"
   ]
  },
  {
   "source": [
    "## Combine dataframe for Exponentially Moving Average"
   ],
   "cell_type": "markdown",
   "metadata": {}
  },
  {
   "cell_type": "code",
   "execution_count": 10,
   "metadata": {},
   "outputs": [
    {
     "output_type": "stream",
     "name": "stdout",
     "text": [
      "{'err_a': 361, 'err_b': 57} 8887\n"
     ]
    }
   ],
   "source": [
    "year = 2019\n",
    "alpha = 0.2\n",
    "input_path = f'../../data/ncaa/processed/{year}/game_by_game_{alpha}_ewm'\n",
    "output_path = f'../../data/ncaa/processed/{year}/accumulated/{alpha}_ewm.csv'\n",
    "\n",
    "ewm_df, info = prev_combine(input_path, output_path)\n",
    "print(info, len(ewm_df))"
   ]
  },
  {
   "source": [
    "# Clean Player Data"
   ],
   "cell_type": "markdown",
   "metadata": {}
  },
  {
   "cell_type": "code",
   "execution_count": 24,
   "metadata": {},
   "outputs": [
    {
     "output_type": "stream",
     "name": "stdout",
     "text": [
      "Fetching for Lockin, Hannah ... Done!\n",
      "Fetching for Tausinga, Tayler ... Done!\n",
      "Fetching for Sisic, Isadora ... Done!\n",
      "Fetching for Garcia, Jaylibeth ... Done!\n",
      "Fetching for Lamborda, Paola ... Done!\n",
      "Fetching for Covas Córdova, Camilla ... Done!\n",
      "Fetching for Jesus, Sharlissa ... Done!\n",
      "Fetching for Olson-Shepherd, Madi ... Done!\n",
      "Fetching for Uluave, Sina ... Done!\n",
      "Fetching for Solosabal, Whitney ... Done!\n"
     ]
    }
   ],
   "source": [
    "def store_player(url, path):\n",
    "    print(f\"Fetching for {Path(path).name[:-4]} ...\", end=' ')\n",
    "    r = requests.get(url, headers={\"User-Agent\": \"Mozilla/5.0 (Windows NT 6.1; WOW64) AppleWebKit/537.36 (KHTML, like Gecko) Chrome/41.0.2272.101 Safari/537.36\"})\n",
    "    pd.read_html(r.text)[-1].drop(labels=[0], axis=0).to_csv(path, index=False)\n",
    "    print(\"Done!\")\n",
    "\n",
    "urls = [\n",
    "    \"https://stats.ncaa.org/player/index?game_sport_year_ctl_id=14942&org_id=51&stats_player_seq=1906568\",\n",
    "    \"https://stats.ncaa.org/player/index?game_sport_year_ctl_id=14942&org_id=77&stats_player_seq=2020914\",\n",
    "    \"https://stats.ncaa.org/player/index?game_sport_year_ctl_id=14942&org_id=136&stats_player_seq=2259847\",\n",
    "    \"https://stats.ncaa.org/player/index?game_sport_year_ctl_id=14942&org_id=196&stats_player_seq=2199752\",\n",
    "    \"https://stats.ncaa.org/player/index?game_sport_year_ctl_id=14942&org_id=255&stats_player_seq=2206497\",\n",
    "    \"https://stats.ncaa.org/player/index?game_sport_year_ctl_id=14942&org_id=648&stats_player_seq=2199107\",\n",
    "    \"https://stats.ncaa.org/player/index?game_sport_year_ctl_id=14942&org_id=141&stats_player_seq=1920987\",\n",
    "    \"https://stats.ncaa.org/player/index?game_sport_year_ctl_id=14942&org_id=731&stats_player_seq=1787509\",\n",
    "    \"https://stats.ncaa.org/player/index?game_sport_year_ctl_id=14942&org_id=782&stats_player_seq=2210530\",\n",
    "    \"https://stats.ncaa.org/player/index?game_sport_year_ctl_id=14942&org_id=731&stats_player_seq=2020474\",\n",
    "]\n",
    "paths = [\n",
    "    \"/home/twm/comp/ml/volleyball-ml/data/ncaa/raw/2019/player_game_wise/Baylor (Big 12)/Lockin, Hannah.csv\",\n",
    "    \"/home/twm/comp/ml/volleyball-ml/data/ncaa/raw/2019/player_game_wise/BYU (WCC)/Tausinga, Tayler.csv\",\n",
    "    \"/home/twm/comp/ml/volleyball-ml/data/ncaa/raw/2019/player_game_wise/Chicago St. (WAC)/Sisic, Isadora.csv\",\n",
    "    \"/home/twm/comp/ml/volleyball-ml/data/ncaa/raw/2019/player_game_wise/East Carolina (AAC)/Garcia, Jaylibeth.csv\",\n",
    "    \"/home/twm/comp/ml/volleyball-ml/data/ncaa/raw/2019/player_game_wise/Georgia Tech (ACC)/Lamborda, Paola.csv\",\n",
    "    \"/home/twm/comp/ml/volleyball-ml/data/ncaa/raw/2019/player_game_wise/South Carolina (SEC)/Covas Córdova, Camilla.csv\",\n",
    "    \"/home/twm/comp/ml/volleyball-ml/data/ncaa/raw/2019/player_game_wise/The Citadel (SoCon)/Jesus, Sharlissa.csv\",\n",
    "    \"/home/twm/comp/ml/volleyball-ml/data/ncaa/raw/2019/player_game_wise/Utah St. (Mountain West)/Olson-Shepherd, Madi.csv\",\n",
    "    \"/home/twm/comp/ml/volleyball-ml/data/ncaa/raw/2019/player_game_wise/Wichita St. (AAC)/Uluave, Sina.csv\",\n",
    "    \"/home/twm/comp/ml/volleyball-ml/data/ncaa/raw/2019/player_game_wise/Utah St. (Mountain West)/Solosabal, Whitney.csv\",\n",
    "]\n",
    "\n",
    "for url, path in zip(urls, paths):\n",
    "    store_player(url, path)"
   ]
  },
  {
   "cell_type": "code",
   "execution_count": 2,
   "metadata": {},
   "outputs": [
    {
     "output_type": "stream",
     "name": "stdout",
     "text": [
      "/home/twm/comp/ml/volleyball-ml/data/ncaa/processed/2019/player_game_wise_cleaned/Abilene Christian/Browning, Logan.csv\n",
      "/home/twm/comp/ml/volleyball-ml/data/ncaa/processed/2019/player_game_wise_cleaned/Akron/Abramson, Rachel.csv\n",
      "/home/twm/comp/ml/volleyball-ml/data/ncaa/processed/2019/player_game_wise_cleaned/Akron/Kelly, Megan.csv\n",
      "/home/twm/comp/ml/volleyball-ml/data/ncaa/processed/2019/player_game_wise_cleaned/Akron/Latka, Lauren.csv\n",
      "/home/twm/comp/ml/volleyball-ml/data/ncaa/processed/2019/player_game_wise_cleaned/Alabama A&M/Battle, Maci.csv\n",
      "/home/twm/comp/ml/volleyball-ml/data/ncaa/processed/2019/player_game_wise_cleaned/Alabama St./Weatherwax, Morgan.csv\n",
      "/home/twm/comp/ml/volleyball-ml/data/ncaa/processed/2019/player_game_wise_cleaned/Ark.-Pine Bluff/Akamine, Nikole.csv\n",
      "/home/twm/comp/ml/volleyball-ml/data/ncaa/processed/2019/player_game_wise_cleaned/Ark.-Pine Bluff/Armstrong, Bri-Anna.csv\n",
      "/home/twm/comp/ml/volleyball-ml/data/ncaa/processed/2019/player_game_wise_cleaned/Ark.-Pine Bluff/Garrit, Zyaire.csv\n",
      "/home/twm/comp/ml/volleyball-ml/data/ncaa/processed/2019/player_game_wise_cleaned/Ark.-Pine Bluff/Robinson, Kaila.csv\n",
      "/home/twm/comp/ml/volleyball-ml/data/ncaa/processed/2019/player_game_wise_cleaned/Ark.-Pine Bluff/Smith, Zyonn.csv\n",
      "/home/twm/comp/ml/volleyball-ml/data/ncaa/processed/2019/player_game_wise_cleaned/Arkansas/Crumpton, Ellease.csv\n",
      "/home/twm/comp/ml/volleyball-ml/data/ncaa/processed/2019/player_game_wise_cleaned/Binghamton/Erwat, Victoria.csv\n",
      "/home/twm/comp/ml/volleyball-ml/data/ncaa/processed/2019/player_game_wise_cleaned/Bucknell/Singer, Sarina.csv\n",
      "/home/twm/comp/ml/volleyball-ml/data/ncaa/processed/2019/player_game_wise_cleaned/Butler/Ziemba, Jillian.csv\n",
      "/home/twm/comp/ml/volleyball-ml/data/ncaa/processed/2019/player_game_wise_cleaned/Central Mich./Braate, Kendall.csv\n",
      "/home/twm/comp/ml/volleyball-ml/data/ncaa/processed/2019/player_game_wise_cleaned/Central Mich./Juengel, Lacey.csv\n",
      "/home/twm/comp/ml/volleyball-ml/data/ncaa/processed/2019/player_game_wise_cleaned/Central Mich./Rosario-Martinez, Lisbeth.csv\n",
      "/home/twm/comp/ml/volleyball-ml/data/ncaa/processed/2019/player_game_wise_cleaned/Central Mich./Thompson, Savannah.csv\n",
      "/home/twm/comp/ml/volleyball-ml/data/ncaa/processed/2019/player_game_wise_cleaned/Central Mich./Whitfield, Maddie.csv\n",
      "/home/twm/comp/ml/volleyball-ml/data/ncaa/processed/2019/player_game_wise_cleaned/Chicago St./Johnson, Ayona.csv\n",
      "/home/twm/comp/ml/volleyball-ml/data/ncaa/processed/2019/player_game_wise_cleaned/Chicago St./Jones, Nailah.csv\n",
      "/home/twm/comp/ml/volleyball-ml/data/ncaa/processed/2019/player_game_wise_cleaned/Chicago St./Play, Did Not.csv\n",
      "/home/twm/comp/ml/volleyball-ml/data/ncaa/processed/2019/player_game_wise_cleaned/Colorado/Schneggenburger, Jill.csv\n",
      "/home/twm/comp/ml/volleyball-ml/data/ncaa/processed/2019/player_game_wise_cleaned/CSU Bakersfield/Elisaia, Seleisa.csv\n",
      "/home/twm/comp/ml/volleyball-ml/data/ncaa/processed/2019/player_game_wise_cleaned/Davidson/Black, Julia.csv\n",
      "/home/twm/comp/ml/volleyball-ml/data/ncaa/processed/2019/player_game_wise_cleaned/Delaware/Bracken, Cailey.csv\n",
      "/home/twm/comp/ml/volleyball-ml/data/ncaa/processed/2019/player_game_wise_cleaned/Delaware/Rivera, Adelina.csv\n",
      "/home/twm/comp/ml/volleyball-ml/data/ncaa/processed/2019/player_game_wise_cleaned/Delaware St./Rakoski, Caroline.csv\n",
      "/home/twm/comp/ml/volleyball-ml/data/ncaa/processed/2019/player_game_wise_cleaned/Delaware St./Ruble, Devin.csv\n",
      "/home/twm/comp/ml/volleyball-ml/data/ncaa/processed/2019/player_game_wise_cleaned/Drake/Baxter, Maddy.csv\n",
      "/home/twm/comp/ml/volleyball-ml/data/ncaa/processed/2019/player_game_wise_cleaned/Fla. Atlantic/Lakman, Nikki.csv\n",
      "/home/twm/comp/ml/volleyball-ml/data/ncaa/processed/2019/player_game_wise_cleaned/Florida A&M/Harris, Iaya.csv\n",
      "/home/twm/comp/ml/volleyball-ml/data/ncaa/processed/2019/player_game_wise_cleaned/Georgia St./Spicer-Gordon, Ryan.csv\n",
      "/home/twm/comp/ml/volleyball-ml/data/ncaa/processed/2019/player_game_wise_cleaned/Georgia St./Truscott, Julianna.csv\n",
      "/home/twm/comp/ml/volleyball-ml/data/ncaa/processed/2019/player_game_wise_cleaned/Hampton/Smith, Clara.csv\n",
      "/home/twm/comp/ml/volleyball-ml/data/ncaa/processed/2019/player_game_wise_cleaned/Hawaii/Rasmussen, Jolie.csv\n",
      "/home/twm/comp/ml/volleyball-ml/data/ncaa/processed/2019/player_game_wise_cleaned/High Point/Dumford, Lucy.csv\n",
      "/home/twm/comp/ml/volleyball-ml/data/ncaa/processed/2019/player_game_wise_cleaned/High Point/Idlebird, Gabrielle.csv\n",
      "/home/twm/comp/ml/volleyball-ml/data/ncaa/processed/2019/player_game_wise_cleaned/High Point/Rammelsberg, Kaley.csv\n",
      "/home/twm/comp/ml/volleyball-ml/data/ncaa/processed/2019/player_game_wise_cleaned/High Point/Salley, Maggie.csv\n",
      "/home/twm/comp/ml/volleyball-ml/data/ncaa/processed/2019/player_game_wise_cleaned/High Point/Truman, Makaya.csv\n",
      "/home/twm/comp/ml/volleyball-ml/data/ncaa/processed/2019/player_game_wise_cleaned/Idaho/Swayze, Sam.csv\n",
      "/home/twm/comp/ml/volleyball-ml/data/ncaa/processed/2019/player_game_wise_cleaned/Idaho/Warren, Kennedy.csv\n",
      "/home/twm/comp/ml/volleyball-ml/data/ncaa/processed/2019/player_game_wise_cleaned/Indiana/Edwards, Breana.csv\n",
      "/home/twm/comp/ml/volleyball-ml/data/ncaa/processed/2019/player_game_wise_cleaned/Indiana/Oliphant, Sophie.csv\n",
      "/home/twm/comp/ml/volleyball-ml/data/ncaa/processed/2019/player_game_wise_cleaned/Iowa/Clayton, Hannah.csv\n",
      "/home/twm/comp/ml/volleyball-ml/data/ncaa/processed/2019/player_game_wise_cleaned/Iowa/Jones, Amiya.csv\n",
      "/home/twm/comp/ml/volleyball-ml/data/ncaa/processed/2019/player_game_wise_cleaned/Iowa/Rients, Blythe.csv\n",
      "/home/twm/comp/ml/volleyball-ml/data/ncaa/processed/2019/player_game_wise_cleaned/Jackson St./Miller, Monica.csv\n",
      "/home/twm/comp/ml/volleyball-ml/data/ncaa/processed/2019/player_game_wise_cleaned/Jackson St./Thompson, Damassy.csv\n",
      "/home/twm/comp/ml/volleyball-ml/data/ncaa/processed/2019/player_game_wise_cleaned/Liberty/O'Malley, Krissy.csv\n",
      "/home/twm/comp/ml/volleyball-ml/data/ncaa/processed/2019/player_game_wise_cleaned/LMU/Personeni, Olivia.csv\n",
      "/home/twm/comp/ml/volleyball-ml/data/ncaa/processed/2019/player_game_wise_cleaned/LMU/Walters , Emmelyn.csv\n",
      "/home/twm/comp/ml/volleyball-ml/data/ncaa/processed/2019/player_game_wise_cleaned/LMU/Warren , Ariana.csv\n",
      "/home/twm/comp/ml/volleyball-ml/data/ncaa/processed/2019/player_game_wise_cleaned/LSU/Goins, Darian.csv\n",
      "/home/twm/comp/ml/volleyball-ml/data/ncaa/processed/2019/player_game_wise_cleaned/LSU/Hill, Samarah.csv\n",
      "/home/twm/comp/ml/volleyball-ml/data/ncaa/processed/2019/player_game_wise_cleaned/LSU/Maher, Leigh.csv\n",
      "/home/twm/comp/ml/volleyball-ml/data/ncaa/processed/2019/player_game_wise_cleaned/Maryland/Jones, Rainelle.csv\n",
      "/home/twm/comp/ml/volleyball-ml/data/ncaa/processed/2019/player_game_wise_cleaned/Miami/Hernandez, Priscilla.csv\n",
      "/home/twm/comp/ml/volleyball-ml/data/ncaa/processed/2019/player_game_wise_cleaned/Miami/Krumnauer, Jacquelyn.csv\n",
      "/home/twm/comp/ml/volleyball-ml/data/ncaa/processed/2019/player_game_wise_cleaned/Miami/Severance, Allyson.csv\n",
      "/home/twm/comp/ml/volleyball-ml/data/ncaa/processed/2019/player_game_wise_cleaned/Michigan St./McLean, Samantha.csv\n",
      "/home/twm/comp/ml/volleyball-ml/data/ncaa/processed/2019/player_game_wise_cleaned/Michigan St./Poljan, Rebecka.csv\n",
      "/home/twm/comp/ml/volleyball-ml/data/ncaa/processed/2019/player_game_wise_cleaned/Middle Tenn./Grever, Emma.csv\n",
      "/home/twm/comp/ml/volleyball-ml/data/ncaa/processed/2019/player_game_wise_cleaned/Minnesota/Kilkelly, Rachel.csv\n",
      "/home/twm/comp/ml/volleyball-ml/data/ncaa/processed/2019/player_game_wise_cleaned/N.C. A&T/Mackey, Arianna.csv\n",
      "/home/twm/comp/ml/volleyball-ml/data/ncaa/processed/2019/player_game_wise_cleaned/N.C. A&T/Warfield, Addy.csv\n",
      "/home/twm/comp/ml/volleyball-ml/data/ncaa/processed/2019/player_game_wise_cleaned/New Mexico/Mojica, Yamelis.csv\n",
      "/home/twm/comp/ml/volleyball-ml/data/ncaa/processed/2019/player_game_wise_cleaned/NJIT/Goetz-Morales, Adriana.csv\n",
      "/home/twm/comp/ml/volleyball-ml/data/ncaa/processed/2019/player_game_wise_cleaned/North Texas/Johnson, Alysha.csv\n",
      "/home/twm/comp/ml/volleyball-ml/data/ncaa/processed/2019/player_game_wise_cleaned/North Texas/McCrillis, Avery.csv\n",
      "/home/twm/comp/ml/volleyball-ml/data/ncaa/processed/2019/player_game_wise_cleaned/Northeastern/Carroll, Liz.csv\n",
      "/home/twm/comp/ml/volleyball-ml/data/ncaa/processed/2019/player_game_wise_cleaned/Northeastern/Martin, Kayla.csv\n",
      "/home/twm/comp/ml/volleyball-ml/data/ncaa/processed/2019/player_game_wise_cleaned/Northern Colo./Boon, Michaela.csv\n",
      "/home/twm/comp/ml/volleyball-ml/data/ncaa/processed/2019/player_game_wise_cleaned/Northern Colo./Harris, Makenzie.csv\n",
      "/home/twm/comp/ml/volleyball-ml/data/ncaa/processed/2019/player_game_wise_cleaned/Northern Colo./Palmer, McKenna.csv\n",
      "/home/twm/comp/ml/volleyball-ml/data/ncaa/processed/2019/player_game_wise_cleaned/Northern Colo./Sciacca, McKenna.csv\n",
      "/home/twm/comp/ml/volleyball-ml/data/ncaa/processed/2019/player_game_wise_cleaned/Northern Ky./Brinkmann, Anna.csv\n",
      "/home/twm/comp/ml/volleyball-ml/data/ncaa/processed/2019/player_game_wise_cleaned/Ohio St./Moeller, Camryn.csv\n",
      "/home/twm/comp/ml/volleyball-ml/data/ncaa/processed/2019/player_game_wise_cleaned/Oklahoma/Curtis, Olivia.csv\n",
      "/home/twm/comp/ml/volleyball-ml/data/ncaa/processed/2019/player_game_wise_cleaned/Oklahoma/Dotson, Sanaá.csv\n",
      "/home/twm/comp/ml/volleyball-ml/data/ncaa/processed/2019/player_game_wise_cleaned/Penn/Kulinski, Kylie.csv\n",
      "/home/twm/comp/ml/volleyball-ml/data/ncaa/processed/2019/player_game_wise_cleaned/Rider/Chan, Jillian.csv\n",
      "/home/twm/comp/ml/volleyball-ml/data/ncaa/processed/2019/player_game_wise_cleaned/Rider/Clarke, Caprice.csv\n",
      "/home/twm/comp/ml/volleyball-ml/data/ncaa/processed/2019/player_game_wise_cleaned/Rider/Iafrate, Alicia.csv\n",
      "/home/twm/comp/ml/volleyball-ml/data/ncaa/processed/2019/player_game_wise_cleaned/Saint Peter's/Lombeyda, Andrea.csv\n",
      "/home/twm/comp/ml/volleyball-ml/data/ncaa/processed/2019/player_game_wise_cleaned/San Francisco/Rogers, Victoria.csv\n",
      "/home/twm/comp/ml/volleyball-ml/data/ncaa/processed/2019/player_game_wise_cleaned/San Francisco/Wagstaff, Katie.csv\n",
      "/home/twm/comp/ml/volleyball-ml/data/ncaa/processed/2019/player_game_wise_cleaned/SMU/Penn, Audrey.csv\n",
      "/home/twm/comp/ml/volleyball-ml/data/ncaa/processed/2019/player_game_wise_cleaned/South Fla./Legg, Nicole.csv\n",
      "/home/twm/comp/ml/volleyball-ml/data/ncaa/processed/2019/player_game_wise_cleaned/South Fla./Pliapol, Lindsey.csv\n",
      "/home/twm/comp/ml/volleyball-ml/data/ncaa/processed/2019/player_game_wise_cleaned/South Fla./Thompson, Peyton.csv\n",
      "/home/twm/comp/ml/volleyball-ml/data/ncaa/processed/2019/player_game_wise_cleaned/Southeast Mo. St./Washington, Kendall.csv\n",
      "/home/twm/comp/ml/volleyball-ml/data/ncaa/processed/2019/player_game_wise_cleaned/Southern Miss./Guillemaud, Liana.csv\n",
      "/home/twm/comp/ml/volleyball-ml/data/ncaa/processed/2019/player_game_wise_cleaned/Southern Miss./Phelan, Hallie.csv\n",
      "/home/twm/comp/ml/volleyball-ml/data/ncaa/processed/2019/player_game_wise_cleaned/St. Francis Brooklyn/Warren, Chloe.csv\n",
      "/home/twm/comp/ml/volleyball-ml/data/ncaa/processed/2019/player_game_wise_cleaned/Syracuse/Markova, Marina.csv\n",
      "/home/twm/comp/ml/volleyball-ml/data/ncaa/processed/2019/player_game_wise_cleaned/Tennessee St./Holmes, Aria.csv\n",
      "/home/twm/comp/ml/volleyball-ml/data/ncaa/processed/2019/player_game_wise_cleaned/Tennessee St./Marshall, Kristian.csv\n",
      "/home/twm/comp/ml/volleyball-ml/data/ncaa/processed/2019/player_game_wise_cleaned/Tennessee St./Washington, Destiny.csv\n",
      "/home/twm/comp/ml/volleyball-ml/data/ncaa/processed/2019/player_game_wise_cleaned/The Citadel/Roberts, Alicia.csv\n",
      "/home/twm/comp/ml/volleyball-ml/data/ncaa/processed/2019/player_game_wise_cleaned/Tulane/Dits, Jillian.csv\n",
      "/home/twm/comp/ml/volleyball-ml/data/ncaa/processed/2019/player_game_wise_cleaned/UConn/Davis , Jasmine.csv\n",
      "/home/twm/comp/ml/volleyball-ml/data/ncaa/processed/2019/player_game_wise_cleaned/UConn/Garland, Alexandria.csv\n",
      "/home/twm/comp/ml/volleyball-ml/data/ncaa/processed/2019/player_game_wise_cleaned/UConn/Ruffolo, Mia.csv\n",
      "/home/twm/comp/ml/volleyball-ml/data/ncaa/processed/2019/player_game_wise_cleaned/UConn/Whitmire, Madi.csv\n",
      "/home/twm/comp/ml/volleyball-ml/data/ncaa/processed/2019/player_game_wise_cleaned/UTEP/Patterson, Serena.csv\n",
      "/home/twm/comp/ml/volleyball-ml/data/ncaa/processed/2019/player_game_wise_cleaned/UTSA/Coppola, Hunter.csv\n",
      "/home/twm/comp/ml/volleyball-ml/data/ncaa/processed/2019/player_game_wise_cleaned/Washington St./Williams, Kalyah.csv\n",
      "/home/twm/comp/ml/volleyball-ml/data/ncaa/processed/2019/player_game_wise_cleaned/West Virginia/Broughton, Keatan.csv\n",
      "/home/twm/comp/ml/volleyball-ml/data/ncaa/processed/2019/player_game_wise_cleaned/Western Mich./Phillips, Meredith.csv\n",
      "/home/twm/comp/ml/volleyball-ml/data/ncaa/processed/2019/player_game_wise_cleaned/William & Mary/Farrell, Claire.csv\n"
     ]
    }
   ],
   "source": [
    "year = 2019\n",
    "verbose = False\n",
    "\n",
    "for root, dirs, _ in os.walk(f'../../data/ncaa/raw/{year}/player_game_wise/'):\n",
    "    for team_dir in dirs:\n",
    "        team_root, _, player_files = list(os.walk(Path(root).joinpath(team_dir)))[0]\n",
    "        team_name = Path(team_root).name\n",
    "        team_name = team_name[:team_name.find('(') - 1]\n",
    "        if verbose:\n",
    "            print(f\"Cleaning player data for {team_name} ...\")\n",
    "        for player_file in player_files:\n",
    "            if verbose:\n",
    "                print(f\"\\tCleaning data for player {player_file[:-4]} ...\", end=' ')\n",
    "            outpath = Path(root).parent.parent.parent.joinpath(f\"processed/{year}/player_game_wise_cleaned/{team_name}\")\n",
    "            if outpath.joinpath(player_file).is_file():\n",
    "                if verbose:\n",
    "                    print(\"Already Exists!\")\n",
    "                continue\n",
    "            try:\n",
    "                df = pd.read_csv(Path(team_root).joinpath(player_file), header=1)\n",
    "            except:\n",
    "                print(f\"{Path(team_root).joinpath(player_file)} Failed!\")\n",
    "                continue\n",
    "            \n",
    "            df.drop(columns=[\"MP\", \"Attend\", \"BHE\", \"Unnamed: 20\"], inplace=True)\n",
    "            df.replace({'/':''}, regex=True, inplace=True)\n",
    "            df.fillna(0, inplace=True)\n",
    "            df[[\"Kills\", \"Errors\", \"Total Attacks\", \"Assists\", \"Aces\", \"SErr\", \"Digs\", \"RErr\", \"Block Solos\", \"Block Assists\", \"BErr\"]] = df[[\"Kills\", \"Errors\", \"Total Attacks\", \"Assists\", \"Aces\", \"SErr\", \"Digs\", \"RErr\", \"Block Solos\", \"Block Assists\", \"BErr\"]].astype(int)\n",
    "            outpath.mkdir(parents=True, exist_ok=True)\n",
    "            df.to_csv(outpath.joinpath(player_file), index=False)\n",
    "            if verbose:\n",
    "                print(\"Done!\")\n",
    "\n",
    "for root, dirs, _ in os.walk('/home/twm/comp/ml/volleyball-ml/data/ncaa/processed/2019/player_game_wise_cleaned'):\n",
    "    for team_dir in dirs:\n",
    "        for team_root, _, player_files in os.walk(Path(root).joinpath(team_dir)):\n",
    "            for player_file in player_files:\n",
    "                if player_file[player_file.find(\".csv\") - 1] == ' ':\n",
    "                    cp = Path(team_root).joinpath(player_file)\n",
    "                    n = player_file[:player_file.find(\".csv\") - 1] + \".csv\"\n",
    "                    print(cp.rename(cp.parent.joinpath(n)))"
   ]
  },
  {
   "source": [
    "## SMA"
   ],
   "cell_type": "markdown",
   "metadata": {}
  },
  {
   "cell_type": "code",
   "execution_count": 22,
   "metadata": {
    "tags": []
   },
   "outputs": [],
   "source": [
    "year = 2019\n",
    "window = 10\n",
    "\n",
    "for root, dirs, _ in os.walk(f'../../data/ncaa/processed/{year}/player_game_wise_cleaned/'):\n",
    "    for team_dir in dirs:\n",
    "        team_root, _, player_files = list(os.walk(Path(root).joinpath(team_dir)))[0]\n",
    "        team_name = Path(team_root).name\n",
    "        team_name = team_name[:team_name.find('(') - 1]\n",
    "        for player_file in player_files:\n",
    "            outpath = Path(root).parent.parent.parent.joinpath(f\"processed/{year}/player_game_wise_{window}_sma/{team_name}\")\n",
    "            df = pd.read_csv(Path(team_root).joinpath(player_file))\n",
    "            features = [\"Kills\", \"Errors\", \"Total Attacks\", \"Hit Pct\", \"Assists\", \"Aces\", \"SErr\", \"Digs\", \"RErr\", \"Block Solos\", \"Block Assists\", \"BErr\", \"PTS\"]\n",
    "            df[features] = df[features].rolling(window, min_periods=1).mean()\n",
    "            outpath.mkdir(parents=True, exist_ok=True)\n",
    "            df.to_csv(outpath.joinpath(player_file), index=False)\t"
   ]
  },
  {
   "source": [
    "## CMA"
   ],
   "cell_type": "markdown",
   "metadata": {}
  },
  {
   "cell_type": "code",
   "execution_count": 23,
   "metadata": {},
   "outputs": [],
   "source": [
    "year = 2019\n",
    "\n",
    "for root, dirs, _ in os.walk(f'../../data/ncaa/processed/{year}/player_game_wise_cleaned/'):\n",
    "    for team_dir in dirs:\n",
    "        team_root, _, player_files = list(os.walk(Path(root).joinpath(team_dir)))[0]\n",
    "        team_name = Path(team_root).name\n",
    "        for player_file in player_files:\n",
    "            outpath = Path(root).parent.parent.parent.joinpath(f\"processed/{year}/player_game_wise_cma/{team_name}\")\n",
    "            df = pd.read_csv(Path(team_root).joinpath(player_file))\n",
    "            features = [\"Kills\", \"Errors\", \"Total Attacks\", \"Hit Pct\", \"Assists\", \"Aces\", \"SErr\", \"Digs\", \"RErr\", \"Block Solos\", \"Block Assists\", \"BErr\", \"PTS\"]\n",
    "            df[features] = df[features].expanding().mean()\n",
    "            outpath.mkdir(parents=True, exist_ok=True)\n",
    "            df.to_csv(outpath.joinpath(player_file), index=False)\t"
   ]
  },
  {
   "source": [
    "## EWM"
   ],
   "cell_type": "markdown",
   "metadata": {}
  },
  {
   "cell_type": "code",
   "execution_count": 5,
   "metadata": {},
   "outputs": [],
   "source": [
    "year = 2019\n",
    "alpha = 0.2\n",
    "\n",
    "for root, dirs, _ in os.walk(f'../../data/ncaa/processed/{year}/player_game_wise_cleaned/'):\n",
    "    for team_dir in dirs:\n",
    "        team_root, _, player_files = list(os.walk(Path(root).joinpath(team_dir)))[0]\n",
    "        team_name = Path(team_root).name\n",
    "        for player_file in player_files:\n",
    "            outpath = Path(root).parent.parent.parent.joinpath(f\"processed/{year}/player_game_wise_{alpha}_ewm/{team_name}\")\n",
    "            df = pd.read_csv(Path(team_root).joinpath(player_file))\n",
    "            features = [\"Kills\", \"Errors\", \"Total Attacks\", \"Hit Pct\", \"Assists\", \"Aces\", \"SErr\", \"Digs\", \"RErr\", \"Block Solos\", \"Block Assists\", \"BErr\", \"PTS\"]\n",
    "            df[features] = df[features].ewm(alpha=alpha).mean()\n",
    "            outpath.mkdir(parents=True, exist_ok=True)\n",
    "            df.to_csv(outpath.joinpath(player_file), index=False)\t"
   ]
  },
  {
   "source": [
    "# Combining into single dataframe"
   ],
   "cell_type": "markdown",
   "metadata": {}
  },
  {
   "cell_type": "code",
   "execution_count": 6,
   "metadata": {},
   "outputs": [],
   "source": [
    "def clean_name(name):\n",
    "    if '@' in name:\n",
    "        if name.index('@') == 0:\n",
    "            return name[2:]\n",
    "        else:\n",
    "            return name[:name.index('@')-1]\n",
    "    else:\n",
    "        return name\n",
    "\n",
    "features = [\"Kills\", \"Errors\", \"Total Attacks\", \"Hit Pct\", \"Assists\", \"Aces\", \"SErr\", \"Digs\", \"RErr\", \"Block Solos\", \"Block Assists\", \"BErr\", \"PTS\"]\n",
    "player_features = [f\"Player {j} {f}\" for f in features for j in range(12)]\n",
    "combined_features = [\n",
    "\"Date\", \"TeamA\", \"TeamB\", \"Result\", \"S\", \"Team A Kills\", \"Team A Errors\", \"Team A Total Attacks\", \"Team A Hit Pct\", \"Team A Assists\", \"Team A Aces\", \"Team A SErr\", \"Team A Digs\",  \"Team A RErr\", \"Team A Block Solos\", \"Team A Block Assists\", \"Team A BErr\", \"Team A PTS\", \"Team B Kills\", \"Team B Errors\", \"Team B Total Attacks\", \"Team B Hit Pct\", \"Team B Assists\", \"Team B Aces\", \"Team B SErr\", \"Team B Digs\", \"Team B RErr\", \"Team B Block Solos\", \"Team B Block Assists\", \"Team B BErr\", \"Team B PTS\",\n",
    "*[f\"Team A {s}\" for s in player_features],\n",
    "*[f\"Team B {s}\" for s in player_features]\n",
    "]\n",
    "\n",
    "\n",
    "def combine_with_player(player_input_path, team_stats_path, team_matches_path, macthes_with_player_info_path, combined_output_path):\n",
    "    print(\"Combining player data for individual teams ...\")\n",
    "\n",
    "    print(\"Building team index ...\", end=' ')\n",
    "    team_names = []\n",
    "    for root, _, files in os.walk(team_matches_path):\n",
    "        for f in files:\n",
    "            team_names.append(f[:-4])\n",
    "    print(\"Done!\")\n",
    "\n",
    "    player_input_path = Path(player_input_path)\n",
    "    team_stats_path = Path(team_stats_path)\n",
    "    team_matches_path = Path(team_matches_path)\n",
    "    macthes_with_player_info_path = Path(macthes_with_player_info_path)\n",
    "    macthes_with_player_info_path.mkdir(exist_ok=True, parents=True)\n",
    "\n",
    "    print(\"Sorting team data ...\", end=' ')\n",
    "    for i, name in enumerate(team_names):\n",
    "        team_matches_df = pd.read_csv(team_matches_path.joinpath(f\"{name}.csv\"))\n",
    "        team_stats_df = pd.read_csv(team_stats_path.joinpath(f\"{name}.csv\"))\n",
    "        top_player_names = [] \n",
    "        for j, (_, player_row) in enumerate(team_stats_df[team_stats_df.Player != \"TEAM\"][team_stats_df.Player != \"Totals\"][team_stats_df.Player != \"Opponent Totals\"].sort_values(by=[\"GP\"], ascending=False).iterrows()):\n",
    "            top_player_names.append(player_row[\"Player\"])\n",
    "            if j == 11:\n",
    "                break\n",
    "        try:\n",
    "            for j, player in enumerate(top_player_names):\n",
    "                team_matches_df[[f\"Player {j} {f}\" for f in features]] = pd.read_csv(player_input_path.joinpath(f\"{name}/{player}.csv\"))[features]\n",
    "            team_matches_df.to_csv(macthes_with_player_info_path.joinpath(f\"{name}.csv\"), index=False)        \n",
    "        except:\n",
    "            print(f\"\\nFailed to get player {player} for {name}!\")\n",
    "            continue\n",
    "    print(\"Done!\")\n",
    "\n",
    "    print(\"Getting match wise dataframes ...\", end=' ')\n",
    "    dfs = []\n",
    "    for root, _, files in os.walk(macthes_with_player_info_path):\n",
    "        for f in files:\n",
    "            dfs.append(pd.read_csv(Path(root).joinpath(f)))\n",
    "    print(\"Done!\")\n",
    "\n",
    "    err_a, err_b = 0, 0\n",
    "    data = []\n",
    "    for i in tnrange(len(dfs), desc=\"Combining into single df\"):\n",
    "        name = team_names[i]\n",
    "        df = dfs[i]\n",
    "        for j in range(len(df)):\n",
    "            if j == 0:\n",
    "                continue\n",
    "            TeamA_row = df.loc[j-1]\n",
    "            date = TeamA_row[\"Date\"]\n",
    "            TeamA = name\n",
    "            TeamB = clean_name(TeamA_row[\"Opponent\"])\n",
    "            Result = 1 if TeamA_row[\"Result\"][0] == 'W' else 0\n",
    "            S = TeamA_row[\"S\"]\n",
    "            TeamA_stats = TeamA_row[features + player_features]\n",
    "            try:\n",
    "                TeamB_df = dfs[team_names.index(TeamB)]\n",
    "            except:\n",
    "                err_a += 1\n",
    "                continue\n",
    "            try:\n",
    "                TeamB_row_index = TeamB_df[TeamB_df[\"Date\"] == date][TeamB_df[\"Opponent\"].str.contains(TeamA)].index[0]\n",
    "                if TeamB_row_index == 0:\n",
    "                    continue\n",
    "                TeamB_row = TeamB_df.loc[TeamB_row_index-1]\n",
    "            except:\n",
    "                err_b += 1\n",
    "                continue\n",
    "\n",
    "            TeamB_stats = TeamB_row[features + player_features]\n",
    "            data.append([date, TeamA, TeamB, Result, S, *TeamA_stats, *TeamB_stats])\n",
    "\n",
    "    combined_df = pd.DataFrame(data, columns=combined_features)\n",
    "    combined_df.to_csv(combined_output_path, index=False)\n",
    "    return dict(df_len=len(combined_df), err_a=err_a, err_b=err_b)\n",
    "\n"
   ]
  },
  {
   "cell_type": "code",
   "execution_count": 7,
   "metadata": {
    "tags": []
   },
   "outputs": [
    {
     "output_type": "stream",
     "name": "stdout",
     "text": [
      "Combining player data for individual teams ...\n",
      "Building team index ... Done!\n",
      "Sorting team data ... Done!\n",
      "Getting match wise dataframes ... Done!\n",
      "331 331\n"
     ]
    },
    {
     "output_type": "display_data",
     "data": {
      "text/plain": "HBox(children=(HTML(value='Combining into single df'), FloatProgress(value=0.0, max=331.0), HTML(value='')))",
      "application/vnd.jupyter.widget-view+json": {
       "version_major": 2,
       "version_minor": 0,
       "model_id": "afc35d8039e34d63a9263263cc140f41"
      }
     },
     "metadata": {}
    },
    {
     "output_type": "stream",
     "name": "stdout",
     "text": [
      "\n"
     ]
    },
    {
     "output_type": "execute_result",
     "data": {
      "text/plain": [
       "{'df_len': 8887, 'err_a': 361, 'err_b': 57}"
      ]
     },
     "metadata": {},
     "execution_count": 7
    }
   ],
   "source": [
    "combine_with_player(\n",
    "    player_input_path=\"/home/twm/comp/ml/volleyball-ml/data/ncaa/processed/2019/player_game_wise_0.2_ewm\",\n",
    "    team_stats_path=\"/home/twm/comp/ml/volleyball-ml/data/ncaa/raw/2019/team_stats\",\n",
    "    team_matches_path=\"/home/twm/comp/ml/volleyball-ml/data/ncaa/processed/2019/game_by_game_0.2_ewm\",\n",
    "    macthes_with_player_info_path=\"/home/twm/comp/ml/volleyball-ml/data/ncaa/processed/2019/game_by_game_with_players_0.2_ewm\",\n",
    "    combined_output_path=\"/home/twm/comp/ml/volleyball-ml/data/ncaa/processed/2019/accumulated/0.2_ewm_with_players.csv\",\n",
    ")"
   ]
  },
  {
   "cell_type": "code",
   "execution_count": 21,
   "metadata": {},
   "outputs": [
    {
     "output_type": "execute_result",
     "data": {
      "text/plain": [
       "7329"
      ]
     },
     "metadata": {},
     "execution_count": 21
    }
   ],
   "source": [
    "df = pd.read_csv(\"/home/twm/comp/ml/volleyball-ml/data/ncaa/processed/2019/accumulated/0.2_ewm_with_players.csv\")\n",
    "len(df)"
   ]
  }
 ]
}